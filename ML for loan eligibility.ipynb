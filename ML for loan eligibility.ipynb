{
 "cells": [
  {
   "cell_type": "markdown",
   "metadata": {},
   "source": [
    "# Loan predictions\n",
    "\n",
    "## Problem Statement\n",
    "\n",
    "We want to automate the loan eligibility process based on customer details that are provided as online application forms are being filled. \n",
    "\n",
    "|Variable| Description|\n",
    "|: ------------- |:-------------|\n",
    "|Loan_ID| Unique Loan ID|\n",
    "|Gender| Male/ Female|\n",
    "|Married| Applicant married (Y/N)|\n",
    "|Dependents| Number of dependents|\n",
    "|Education| Applicant Education (Graduate/ Under Graduate)|\n",
    "|Self_Employed| Self employed (Y/N)|\n",
    "|ApplicantIncome| Applicant income|\n",
    "|CoapplicantIncome| Coapplicant income|\n",
    "|LoanAmount| Loan amount in thousands|\n",
    "|Loan_Amount_Term| Term of loan in months|\n",
    "|Credit_History| credit history meets guidelines|\n",
    "|Property_Area| Urban/ Semi Urban/ Rural|\n",
    "|Loan_Status| Loan approved (Y/N)\n",
    "\n"
   ]
  },
  {
   "cell_type": "markdown",
   "metadata": {},
   "source": [
    "## 1. Hypothesis Generation\n",
    "\n",
    "\n",
    "#### Possible hypotheses\n",
    "Which applicants are more likely to get a loan\n",
    "\n",
    "1. Applicants having a credit history, and records are good.\n",
    "2. Applicants with higher applicant and co-applicant incomes\n",
    "3. Applicants with higher education level\n",
    "4. Properties in urban areas with high growth perspectives\n",
    "5. Applicants ages\n",
    "6. Profession and industries\n",
    "\n",
    "\n"
   ]
  },
  {
   "cell_type": "markdown",
   "metadata": {},
   "source": [
    "## 2. Data Exploration\n"
   ]
  },
  {
   "cell_type": "code",
   "execution_count": 208,
   "metadata": {
    "collapsed": false,
    "jupyter": {
     "outputs_hidden": false
    }
   },
   "outputs": [],
   "source": [
    "import pandas as pd\n",
    "import numpy as np\n",
    "from matplotlib import pyplot as plt\n",
    "from sklearn.impute import SimpleImputer\n",
    "from sklearn.compose import ColumnTransformer\n",
    "from sklearn.preprocessing import OneHotEncoder\n",
    "from sklearn.preprocessing import FunctionTransformer\n",
    "from sklearn.preprocessing import StandardScaler\n",
    "from sklearn.model_selection import train_test_split\n",
    "from sklearn.pipeline import Pipeline\n",
    "from sklearn.model_selection import GridSearchCV\n",
    "from sklearn.linear_model import LogisticRegression\n",
    "from sklearn.ensemble import RandomForestClassifier\n",
    "from sklearn.ensemble import AdaBoostClassifier\n",
    "from sklearn.naive_bayes import GaussianNB\n",
    "from sklearn.svm import SVC\n",
    "from xgboost import XGBClassifier\n",
    "from sklearn.metrics import accuracy_score,classification_report\n",
    "import pickle\n"
   ]
  },
  {
   "cell_type": "code",
   "execution_count": null,
   "metadata": {},
   "outputs": [],
   "source": [
    "df = pd.read_csv(\"data.csv\") \n",
    "df.head()"
   ]
  },
  {
   "cell_type": "code",
   "execution_count": 3,
   "metadata": {},
   "outputs": [
    {
     "name": "stdout",
     "output_type": "stream",
     "text": [
      "<class 'pandas.core.frame.DataFrame'>\n",
      "RangeIndex: 614 entries, 0 to 613\n",
      "Data columns (total 13 columns):\n",
      " #   Column             Non-Null Count  Dtype  \n",
      "---  ------             --------------  -----  \n",
      " 0   Loan_ID            614 non-null    object \n",
      " 1   Gender             601 non-null    object \n",
      " 2   Married            611 non-null    object \n",
      " 3   Dependents         599 non-null    object \n",
      " 4   Education          614 non-null    object \n",
      " 5   Self_Employed      582 non-null    object \n",
      " 6   ApplicantIncome    614 non-null    int64  \n",
      " 7   CoapplicantIncome  614 non-null    float64\n",
      " 8   LoanAmount         592 non-null    float64\n",
      " 9   Loan_Amount_Term   600 non-null    float64\n",
      " 10  Credit_History     564 non-null    float64\n",
      " 11  Property_Area      614 non-null    object \n",
      " 12  Loan_Status        614 non-null    object \n",
      "dtypes: float64(4), int64(1), object(8)\n",
      "memory usage: 62.5+ KB\n"
     ]
    }
   ],
   "source": [
    "df.info()"
   ]
  },
  {
   "cell_type": "markdown",
   "metadata": {},
   "source": [
    "One of the key challenges in any data set are missing values. Lets start by checking which columns contain missing values."
   ]
  },
  {
   "cell_type": "code",
   "execution_count": 2,
   "metadata": {
    "collapsed": false,
    "jupyter": {
     "outputs_hidden": false
    }
   },
   "outputs": [
    {
     "data": {
      "text/plain": [
       "Loan_ID               0\n",
       "Gender               13\n",
       "Married               3\n",
       "Dependents           15\n",
       "Education             0\n",
       "Self_Employed        32\n",
       "ApplicantIncome       0\n",
       "CoapplicantIncome     0\n",
       "LoanAmount           22\n",
       "Loan_Amount_Term     14\n",
       "Credit_History       50\n",
       "Property_Area         0\n",
       "Loan_Status           0\n",
       "dtype: int64"
      ]
     },
     "execution_count": 2,
     "metadata": {},
     "output_type": "execute_result"
    }
   ],
   "source": [
    "df.isnull().sum()"
   ]
  },
  {
   "cell_type": "markdown",
   "metadata": {},
   "source": [
    "Look at some basic statistics for numerical variables."
   ]
  },
  {
   "cell_type": "code",
   "execution_count": 4,
   "metadata": {
    "collapsed": false,
    "jupyter": {
     "outputs_hidden": false
    }
   },
   "outputs": [
    {
     "data": {
      "text/html": [
       "<div>\n",
       "<style scoped>\n",
       "    .dataframe tbody tr th:only-of-type {\n",
       "        vertical-align: middle;\n",
       "    }\n",
       "\n",
       "    .dataframe tbody tr th {\n",
       "        vertical-align: top;\n",
       "    }\n",
       "\n",
       "    .dataframe thead th {\n",
       "        text-align: right;\n",
       "    }\n",
       "</style>\n",
       "<table border=\"1\" class=\"dataframe\">\n",
       "  <thead>\n",
       "    <tr style=\"text-align: right;\">\n",
       "      <th></th>\n",
       "      <th>ApplicantIncome</th>\n",
       "      <th>CoapplicantIncome</th>\n",
       "      <th>LoanAmount</th>\n",
       "      <th>Loan_Amount_Term</th>\n",
       "      <th>Credit_History</th>\n",
       "    </tr>\n",
       "  </thead>\n",
       "  <tbody>\n",
       "    <tr>\n",
       "      <th>count</th>\n",
       "      <td>614.000000</td>\n",
       "      <td>614.000000</td>\n",
       "      <td>592.000000</td>\n",
       "      <td>600.00000</td>\n",
       "      <td>564.000000</td>\n",
       "    </tr>\n",
       "    <tr>\n",
       "      <th>mean</th>\n",
       "      <td>5403.459283</td>\n",
       "      <td>1621.245798</td>\n",
       "      <td>146.412162</td>\n",
       "      <td>342.00000</td>\n",
       "      <td>0.842199</td>\n",
       "    </tr>\n",
       "    <tr>\n",
       "      <th>std</th>\n",
       "      <td>6109.041673</td>\n",
       "      <td>2926.248369</td>\n",
       "      <td>85.587325</td>\n",
       "      <td>65.12041</td>\n",
       "      <td>0.364878</td>\n",
       "    </tr>\n",
       "    <tr>\n",
       "      <th>min</th>\n",
       "      <td>150.000000</td>\n",
       "      <td>0.000000</td>\n",
       "      <td>9.000000</td>\n",
       "      <td>12.00000</td>\n",
       "      <td>0.000000</td>\n",
       "    </tr>\n",
       "    <tr>\n",
       "      <th>25%</th>\n",
       "      <td>2877.500000</td>\n",
       "      <td>0.000000</td>\n",
       "      <td>100.000000</td>\n",
       "      <td>360.00000</td>\n",
       "      <td>1.000000</td>\n",
       "    </tr>\n",
       "    <tr>\n",
       "      <th>50%</th>\n",
       "      <td>3812.500000</td>\n",
       "      <td>1188.500000</td>\n",
       "      <td>128.000000</td>\n",
       "      <td>360.00000</td>\n",
       "      <td>1.000000</td>\n",
       "    </tr>\n",
       "    <tr>\n",
       "      <th>75%</th>\n",
       "      <td>5795.000000</td>\n",
       "      <td>2297.250000</td>\n",
       "      <td>168.000000</td>\n",
       "      <td>360.00000</td>\n",
       "      <td>1.000000</td>\n",
       "    </tr>\n",
       "    <tr>\n",
       "      <th>max</th>\n",
       "      <td>81000.000000</td>\n",
       "      <td>41667.000000</td>\n",
       "      <td>700.000000</td>\n",
       "      <td>480.00000</td>\n",
       "      <td>1.000000</td>\n",
       "    </tr>\n",
       "  </tbody>\n",
       "</table>\n",
       "</div>"
      ],
      "text/plain": [
       "       ApplicantIncome  CoapplicantIncome  LoanAmount  Loan_Amount_Term  \\\n",
       "count       614.000000         614.000000  592.000000         600.00000   \n",
       "mean       5403.459283        1621.245798  146.412162         342.00000   \n",
       "std        6109.041673        2926.248369   85.587325          65.12041   \n",
       "min         150.000000           0.000000    9.000000          12.00000   \n",
       "25%        2877.500000           0.000000  100.000000         360.00000   \n",
       "50%        3812.500000        1188.500000  128.000000         360.00000   \n",
       "75%        5795.000000        2297.250000  168.000000         360.00000   \n",
       "max       81000.000000       41667.000000  700.000000         480.00000   \n",
       "\n",
       "       Credit_History  \n",
       "count      564.000000  \n",
       "mean         0.842199  \n",
       "std          0.364878  \n",
       "min          0.000000  \n",
       "25%          1.000000  \n",
       "50%          1.000000  \n",
       "75%          1.000000  \n",
       "max          1.000000  "
      ]
     },
     "execution_count": 4,
     "metadata": {},
     "output_type": "execute_result"
    }
   ],
   "source": [
    "df.describe()"
   ]
  },
  {
   "cell_type": "markdown",
   "metadata": {},
   "source": [
    "1. How many applicants have a `Credit_History`? (`Credit_History` has value 1 for those who have a credit history and 0 otherwise)\n",
    "2. Is the `ApplicantIncome` distribution in line with your expectation? Similarly, what about `CoapplicantIncome`?\n",
    "3. Tip: Can you see a possible skewness in the data by comparing the mean to the median, i.e. the 50% figure of a feature.\n",
    "\n"
   ]
  },
  {
   "cell_type": "markdown",
   "metadata": {},
   "source": [
    "Let's discuss nominal (categorical) variable. Look at the number of unique values in each of them."
   ]
  },
  {
   "cell_type": "code",
   "execution_count": 6,
   "metadata": {
    "collapsed": false,
    "jupyter": {
     "outputs_hidden": false
    }
   },
   "outputs": [
    {
     "data": {
      "text/plain": [
       "Loan_ID              614\n",
       "Gender                 2\n",
       "Married                2\n",
       "Dependents             4\n",
       "Education              2\n",
       "Self_Employed          2\n",
       "ApplicantIncome      505\n",
       "CoapplicantIncome    287\n",
       "LoanAmount           203\n",
       "Loan_Amount_Term      10\n",
       "Credit_History         2\n",
       "Property_Area          3\n",
       "Loan_Status            2\n",
       "dtype: int64"
      ]
     },
     "execution_count": 6,
     "metadata": {},
     "output_type": "execute_result"
    }
   ],
   "source": [
    "df.nunique()"
   ]
  },
  {
   "cell_type": "markdown",
   "metadata": {},
   "source": [
    "Explore further using the frequency of different categories in each nominal variable. Exclude the ID obvious reasons."
   ]
  },
  {
   "cell_type": "code",
   "execution_count": 11,
   "metadata": {},
   "outputs": [
    {
     "data": {
      "text/plain": [
       "Dependents\n",
       "0             345\n",
       "1             102\n",
       "2             101\n",
       "3+             51\n",
       "dtype: int64"
      ]
     },
     "execution_count": 11,
     "metadata": {},
     "output_type": "execute_result"
    }
   ],
   "source": [
    "df.value_counts(['Dependents'])"
   ]
  },
  {
   "cell_type": "code",
   "execution_count": 12,
   "metadata": {
    "collapsed": false,
    "jupyter": {
     "outputs_hidden": false
    }
   },
   "outputs": [
    {
     "data": {
      "text/plain": [
       "Married  Dependents\n",
       "Yes      0             174\n",
       "No       0             171\n",
       "Yes      2              93\n",
       "         1              79\n",
       "         3+             44\n",
       "No       1              23\n",
       "         2               8\n",
       "         3+              7\n",
       "dtype: int64"
      ]
     },
     "execution_count": 12,
     "metadata": {},
     "output_type": "execute_result"
    }
   ],
   "source": [
    "df.value_counts(['Married','Dependents'])"
   ]
  },
  {
   "cell_type": "code",
   "execution_count": 13,
   "metadata": {},
   "outputs": [
    {
     "data": {
      "text/plain": [
       "Loan_Amount_Term\n",
       "360.0               512\n",
       "180.0                44\n",
       "480.0                15\n",
       "300.0                13\n",
       "84.0                  4\n",
       "240.0                 4\n",
       "120.0                 3\n",
       "36.0                  2\n",
       "60.0                  2\n",
       "12.0                  1\n",
       "dtype: int64"
      ]
     },
     "execution_count": 13,
     "metadata": {},
     "output_type": "execute_result"
    }
   ],
   "source": [
    "df.value_counts(['Loan_Amount_Term'])\n",
    "            "
   ]
  },
  {
   "cell_type": "code",
   "execution_count": 14,
   "metadata": {},
   "outputs": [
    {
     "data": {
      "text/plain": [
       "1.0    475\n",
       "0.0     89\n",
       "Name: Credit_History, dtype: int64"
      ]
     },
     "execution_count": 14,
     "metadata": {},
     "output_type": "execute_result"
    }
   ],
   "source": [
    "df['Credit_History'].value_counts()"
   ]
  },
  {
   "cell_type": "markdown",
   "metadata": {},
   "source": [
    "### Distribution analysis\n",
    "\n",
    "Study distribution of various variables. Plot the histogram of ApplicantIncome, try different number of bins.\n",
    "\n"
   ]
  },
  {
   "cell_type": "code",
   "execution_count": 27,
   "metadata": {
    "collapsed": false,
    "jupyter": {
     "outputs_hidden": false
    }
   },
   "outputs": [
    {
     "data": {
      "text/plain": [
       "(array([ 17., 224., 182.,  81.,  29.,  25.,  15.,   7.,   5.,   7.,   6.,\n",
       "          3.,   5.,   0.,   1.,   0.,   0.,   0.,   0.,   0.,   1.,   0.,\n",
       "          0.,   1.,   2.,   0.,   0.,   0.,   0.,   0.,   0.,   1.,   0.,\n",
       "          0.,   0.,   0.,   0.,   0.,   0.,   1.,   0.,   0.,   0.,   0.,\n",
       "          0.,   0.,   0.,   0.,   0.,   1.]),\n",
       " array([  150.,  1767.,  3384.,  5001.,  6618.,  8235.,  9852., 11469.,\n",
       "        13086., 14703., 16320., 17937., 19554., 21171., 22788., 24405.,\n",
       "        26022., 27639., 29256., 30873., 32490., 34107., 35724., 37341.,\n",
       "        38958., 40575., 42192., 43809., 45426., 47043., 48660., 50277.,\n",
       "        51894., 53511., 55128., 56745., 58362., 59979., 61596., 63213.,\n",
       "        64830., 66447., 68064., 69681., 71298., 72915., 74532., 76149.,\n",
       "        77766., 79383., 81000.]),\n",
       " <BarContainer object of 50 artists>)"
      ]
     },
     "execution_count": 27,
     "metadata": {},
     "output_type": "execute_result"
    },
    {
     "data": {
      "image/png": "[encoded data removed]",
      "text/plain": [
       "<Figure size 432x288 with 1 Axes>"
      ]
     },
     "metadata": {
      "needs_background": "light"
     },
     "output_type": "display_data"
    }
   ],
   "source": [
    "plt.hist(df['ApplicantIncome'],bins=50)"
   ]
  },
  {
   "cell_type": "markdown",
   "metadata": {},
   "source": [
    "\n",
    "Look at box plots to understand the distributions. "
   ]
  },
  {
   "cell_type": "code",
   "execution_count": 17,
   "metadata": {
    "collapsed": false,
    "jupyter": {
     "outputs_hidden": false
    }
   },
   "outputs": [
    {
     "data": {
      "text/plain": [
       "{'whiskers': [<matplotlib.lines.Line2D at 0x1f0115614c0>,\n",
       "  <matplotlib.lines.Line2D at 0x1f011561910>],\n",
       " 'caps': [<matplotlib.lines.Line2D at 0x1f011561d90>,\n",
       "  <matplotlib.lines.Line2D at 0x1f01155e160>],\n",
       " 'boxes': [<matplotlib.lines.Line2D at 0x1f011558ee0>],\n",
       " 'medians': [<matplotlib.lines.Line2D at 0x1f01155e5e0>],\n",
       " 'fliers': [<matplotlib.lines.Line2D at 0x1f01155eac0>],\n",
       " 'means': []}"
      ]
     },
     "execution_count": 17,
     "metadata": {},
     "output_type": "execute_result"
    },
    {
     "data": {
      "image/png": "[encoded data removed]",
      "text/plain": [
       "<Figure size 432x288 with 1 Axes>"
      ]
     },
     "metadata": {
      "needs_background": "light"
     },
     "output_type": "display_data"
    }
   ],
   "source": [
    "plt.boxplot(df['ApplicantIncome'])"
   ]
  },
  {
   "cell_type": "markdown",
   "metadata": {},
   "source": [
    "Look at the distribution of income segregated  by `Education`"
   ]
  },
  {
   "cell_type": "code",
   "execution_count": 21,
   "metadata": {
    "collapsed": false,
    "jupyter": {
     "outputs_hidden": false
    }
   },
   "outputs": [
    {
     "data": {
      "text/plain": [
       "<AxesSubplot:title={'center':'ApplicantIncome'}, xlabel='[Education]'>"
      ]
     },
     "execution_count": 21,
     "metadata": {},
     "output_type": "execute_result"
    },
    {
     "data": {
      "image/png": "[encoded data removed]",
      "text/plain": [
       "<Figure size 432x288 with 1 Axes>"
      ]
     },
     "metadata": {
      "needs_background": "light"
     },
     "output_type": "display_data"
    }
   ],
   "source": [
    "df.boxplot(column=['ApplicantIncome'], by=['Education'])"
   ]
  },
  {
   "cell_type": "markdown",
   "metadata": {},
   "source": [
    "Look at the histogram and boxplot of LoanAmount"
   ]
  },
  {
   "cell_type": "code",
   "execution_count": 23,
   "metadata": {
    "collapsed": false,
    "jupyter": {
     "outputs_hidden": false
    }
   },
   "outputs": [
    {
     "data": {
      "text/plain": [
       "<AxesSubplot:>"
      ]
     },
     "execution_count": 23,
     "metadata": {},
     "output_type": "execute_result"
    },
    {
     "data": {
      "image/png": "[encoded data removed]",
      "text/plain": [
       "<Figure size 432x360 with 1 Axes>"
      ]
     },
     "metadata": {
      "needs_background": "light"
     },
     "output_type": "display_data"
    }
   ],
   "source": [
    "plt.figure(figsize=(6,5))\n",
    "df.boxplot(column=['LoanAmount'])"
   ]
  },
  {
   "cell_type": "code",
   "execution_count": null,
   "metadata": {
    "collapsed": false,
    "jupyter": {
     "outputs_hidden": false
    }
   },
   "outputs": [],
   "source": []
  },
  {
   "cell_type": "markdown",
   "metadata": {},
   "source": [
    "There might be some extreme values. Both `ApplicantIncome` and `LoanAmount` require some amount of data munging. `LoanAmount` has missing and well as extreme values values, while `ApplicantIncome` has a few extreme values, which demand deeper understanding. "
   ]
  },
  {
   "cell_type": "markdown",
   "metadata": {},
   "source": [
    "### Categorical variable analysis\n",
    "\n",
    "Try to understand categorical variables in more details using `pandas.DataFrame.pivot_table` and some visualizations."
   ]
  },
  {
   "cell_type": "code",
   "execution_count": 25,
   "metadata": {
    "collapsed": false,
    "jupyter": {
     "outputs_hidden": false
    }
   },
   "outputs": [
    {
     "data": {
      "text/html": [
       "<div>\n",
       "<style scoped>\n",
       "    .dataframe tbody tr th:only-of-type {\n",
       "        vertical-align: middle;\n",
       "    }\n",
       "\n",
       "    .dataframe tbody tr th {\n",
       "        vertical-align: top;\n",
       "    }\n",
       "\n",
       "    .dataframe thead th {\n",
       "        text-align: right;\n",
       "    }\n",
       "</style>\n",
       "<table border=\"1\" class=\"dataframe\">\n",
       "  <thead>\n",
       "    <tr style=\"text-align: right;\">\n",
       "      <th>Self_Employed</th>\n",
       "      <th>No</th>\n",
       "      <th>Yes</th>\n",
       "    </tr>\n",
       "    <tr>\n",
       "      <th>Education</th>\n",
       "      <th></th>\n",
       "      <th></th>\n",
       "    </tr>\n",
       "  </thead>\n",
       "  <tbody>\n",
       "    <tr>\n",
       "      <th>Graduate</th>\n",
       "      <td>5504.203085</td>\n",
       "      <td>7735.507692</td>\n",
       "    </tr>\n",
       "    <tr>\n",
       "      <th>Not Graduate</th>\n",
       "      <td>3457.108108</td>\n",
       "      <td>6024.647059</td>\n",
       "    </tr>\n",
       "  </tbody>\n",
       "</table>\n",
       "</div>"
      ],
      "text/plain": [
       "Self_Employed           No          Yes\n",
       "Education                              \n",
       "Graduate       5504.203085  7735.507692\n",
       "Not Graduate   3457.108108  6024.647059"
      ]
     },
     "execution_count": 25,
     "metadata": {},
     "output_type": "execute_result"
    }
   ],
   "source": [
    "df.pivot_table(values='ApplicantIncome', index=['Education'], columns=['Self_Employed'])"
   ]
  },
  {
   "cell_type": "code",
   "execution_count": null,
   "metadata": {
    "collapsed": false,
    "jupyter": {
     "outputs_hidden": false
    }
   },
   "outputs": [],
   "source": []
  },
  {
   "cell_type": "code",
   "execution_count": null,
   "metadata": {},
   "outputs": [],
   "source": []
  },
  {
   "cell_type": "code",
   "execution_count": null,
   "metadata": {},
   "outputs": [],
   "source": []
  },
  {
   "cell_type": "markdown",
   "metadata": {},
   "source": [
    "## 3. Data Cleaning\n",
    "\n",
    "This step typically involves imputing missing values and treating outliers. "
   ]
  },
  {
   "cell_type": "markdown",
   "metadata": {},
   "source": [
    "### Imputing Missing Values\n",
    "\n",
    "Missing values may not always be NaNs. For instance, the `Loan_Amount_Term` might be 0, which does not make sense.\n",
    "\n"
   ]
  },
  {
   "cell_type": "markdown",
   "metadata": {},
   "source": [
    "Impute missing values for all columns. Use the values which you find most meaningful (mean, mode, median, zero.... maybe different mean values for different groups)"
   ]
  },
  {
   "cell_type": "code",
   "execution_count": 26,
   "metadata": {},
   "outputs": [
    {
     "data": {
      "text/html": [
       "<div>\n",
       "<style scoped>\n",
       "    .dataframe tbody tr th:only-of-type {\n",
       "        vertical-align: middle;\n",
       "    }\n",
       "\n",
       "    .dataframe tbody tr th {\n",
       "        vertical-align: top;\n",
       "    }\n",
       "\n",
       "    .dataframe thead th {\n",
       "        text-align: right;\n",
       "    }\n",
       "</style>\n",
       "<table border=\"1\" class=\"dataframe\">\n",
       "  <thead>\n",
       "    <tr style=\"text-align: right;\">\n",
       "      <th></th>\n",
       "      <th>Loan_ID</th>\n",
       "      <th>Gender</th>\n",
       "      <th>Married</th>\n",
       "      <th>Dependents</th>\n",
       "      <th>Education</th>\n",
       "      <th>Self_Employed</th>\n",
       "      <th>ApplicantIncome</th>\n",
       "      <th>CoapplicantIncome</th>\n",
       "      <th>LoanAmount</th>\n",
       "      <th>Loan_Amount_Term</th>\n",
       "      <th>Credit_History</th>\n",
       "      <th>Property_Area</th>\n",
       "      <th>Loan_Status</th>\n",
       "    </tr>\n",
       "  </thead>\n",
       "  <tbody>\n",
       "    <tr>\n",
       "      <th>0</th>\n",
       "      <td>LP001002</td>\n",
       "      <td>Male</td>\n",
       "      <td>No</td>\n",
       "      <td>0</td>\n",
       "      <td>Graduate</td>\n",
       "      <td>No</td>\n",
       "      <td>5849</td>\n",
       "      <td>0.0</td>\n",
       "      <td>NaN</td>\n",
       "      <td>360.0</td>\n",
       "      <td>1.0</td>\n",
       "      <td>Urban</td>\n",
       "      <td>Y</td>\n",
       "    </tr>\n",
       "    <tr>\n",
       "      <th>1</th>\n",
       "      <td>LP001003</td>\n",
       "      <td>Male</td>\n",
       "      <td>Yes</td>\n",
       "      <td>1</td>\n",
       "      <td>Graduate</td>\n",
       "      <td>No</td>\n",
       "      <td>4583</td>\n",
       "      <td>1508.0</td>\n",
       "      <td>128.0</td>\n",
       "      <td>360.0</td>\n",
       "      <td>1.0</td>\n",
       "      <td>Rural</td>\n",
       "      <td>N</td>\n",
       "    </tr>\n",
       "    <tr>\n",
       "      <th>2</th>\n",
       "      <td>LP001005</td>\n",
       "      <td>Male</td>\n",
       "      <td>Yes</td>\n",
       "      <td>0</td>\n",
       "      <td>Graduate</td>\n",
       "      <td>Yes</td>\n",
       "      <td>3000</td>\n",
       "      <td>0.0</td>\n",
       "      <td>66.0</td>\n",
       "      <td>360.0</td>\n",
       "      <td>1.0</td>\n",
       "      <td>Urban</td>\n",
       "      <td>Y</td>\n",
       "    </tr>\n",
       "    <tr>\n",
       "      <th>3</th>\n",
       "      <td>LP001006</td>\n",
       "      <td>Male</td>\n",
       "      <td>Yes</td>\n",
       "      <td>0</td>\n",
       "      <td>Not Graduate</td>\n",
       "      <td>No</td>\n",
       "      <td>2583</td>\n",
       "      <td>2358.0</td>\n",
       "      <td>120.0</td>\n",
       "      <td>360.0</td>\n",
       "      <td>1.0</td>\n",
       "      <td>Urban</td>\n",
       "      <td>Y</td>\n",
       "    </tr>\n",
       "    <tr>\n",
       "      <th>4</th>\n",
       "      <td>LP001008</td>\n",
       "      <td>Male</td>\n",
       "      <td>No</td>\n",
       "      <td>0</td>\n",
       "      <td>Graduate</td>\n",
       "      <td>No</td>\n",
       "      <td>6000</td>\n",
       "      <td>0.0</td>\n",
       "      <td>141.0</td>\n",
       "      <td>360.0</td>\n",
       "      <td>1.0</td>\n",
       "      <td>Urban</td>\n",
       "      <td>Y</td>\n",
       "    </tr>\n",
       "  </tbody>\n",
       "</table>\n",
       "</div>"
      ],
      "text/plain": [
       "    Loan_ID Gender Married Dependents     Education Self_Employed  \\\n",
       "0  LP001002   Male      No          0      Graduate            No   \n",
       "1  LP001003   Male     Yes          1      Graduate            No   \n",
       "2  LP001005   Male     Yes          0      Graduate           Yes   \n",
       "3  LP001006   Male     Yes          0  Not Graduate            No   \n",
       "4  LP001008   Male      No          0      Graduate            No   \n",
       "\n",
       "   ApplicantIncome  CoapplicantIncome  LoanAmount  Loan_Amount_Term  \\\n",
       "0             5849                0.0         NaN             360.0   \n",
       "1             4583             1508.0       128.0             360.0   \n",
       "2             3000                0.0        66.0             360.0   \n",
       "3             2583             2358.0       120.0             360.0   \n",
       "4             6000                0.0       141.0             360.0   \n",
       "\n",
       "   Credit_History Property_Area Loan_Status  \n",
       "0             1.0         Urban           Y  \n",
       "1             1.0         Rural           N  \n",
       "2             1.0         Urban           Y  \n",
       "3             1.0         Urban           Y  \n",
       "4             1.0         Urban           Y  "
      ]
     },
     "execution_count": 26,
     "metadata": {},
     "output_type": "execute_result"
    }
   ],
   "source": [
    "df.head()"
   ]
  },
  {
   "cell_type": "code",
   "execution_count": 36,
   "metadata": {},
   "outputs": [
    {
     "data": {
      "text/plain": [
       "Loan_ID               0\n",
       "Gender               13\n",
       "Married               3\n",
       "Dependents           15\n",
       "Education             0\n",
       "Self_Employed        32\n",
       "ApplicantIncome       0\n",
       "CoapplicantIncome     0\n",
       "LoanAmount           22\n",
       "Loan_Amount_Term     14\n",
       "Credit_History       50\n",
       "Property_Area         0\n",
       "Loan_Status           0\n",
       "dtype: int64"
      ]
     },
     "execution_count": 36,
     "metadata": {},
     "output_type": "execute_result"
    }
   ],
   "source": [
    "df.isnull().sum()"
   ]
  },
  {
   "cell_type": "code",
   "execution_count": 88,
   "metadata": {},
   "outputs": [
    {
     "data": {
      "text/plain": [
       "1.0    475\n",
       "0.0     89\n",
       "2.0     50\n",
       "Name: Credit_History, dtype: int64"
      ]
     },
     "execution_count": 88,
     "metadata": {},
     "output_type": "execute_result"
    }
   ],
   "source": [
    "X['Credit_History'].value_counts()"
   ]
  },
  {
   "cell_type": "code",
   "execution_count": 69,
   "metadata": {},
   "outputs": [],
   "source": [
    "replace_values = {'Gender':{'Male':0,'Female':1}, \n",
    "                  'Married':{'Yes':1,'No':0},\n",
    "                'Dependents':{'0':0,'1':1,'2':2,'3+':3},\n",
    "                  'Education':{'Graduate':1,'Not Graduate':0},\n",
    "                  'Property_Area':{'Rural':0,'Semiurban':1,'Urban':2},\n",
    "                  'Self_Employed':{'Yes':1,'No':0}}\n",
    "        "
   ]
  },
  {
   "cell_type": "code",
   "execution_count": 203,
   "metadata": {},
   "outputs": [],
   "source": [
    "#X = df.replace(replace_values)\n",
    "X = df[['Gender','Married','Dependents','Education','Property_Area','Self_Employed','ApplicantIncome','CoapplicantIncome','LoanAmount','Loan_Amount_Term','Credit_History']]\n",
    "y = df['Loan_Status'].replace({'Y':1,'N':0})"
   ]
  },
  {
   "cell_type": "code",
   "execution_count": 204,
   "metadata": {},
   "outputs": [
    {
     "data": {
      "text/html": [
       "<div>\n",
       "<style scoped>\n",
       "    .dataframe tbody tr th:only-of-type {\n",
       "        vertical-align: middle;\n",
       "    }\n",
       "\n",
       "    .dataframe tbody tr th {\n",
       "        vertical-align: top;\n",
       "    }\n",
       "\n",
       "    .dataframe thead th {\n",
       "        text-align: right;\n",
       "    }\n",
       "</style>\n",
       "<table border=\"1\" class=\"dataframe\">\n",
       "  <thead>\n",
       "    <tr style=\"text-align: right;\">\n",
       "      <th></th>\n",
       "      <th>Gender</th>\n",
       "      <th>Married</th>\n",
       "      <th>Dependents</th>\n",
       "      <th>Education</th>\n",
       "      <th>Property_Area</th>\n",
       "      <th>Self_Employed</th>\n",
       "      <th>ApplicantIncome</th>\n",
       "      <th>CoapplicantIncome</th>\n",
       "      <th>LoanAmount</th>\n",
       "      <th>Loan_Amount_Term</th>\n",
       "      <th>Credit_History</th>\n",
       "    </tr>\n",
       "  </thead>\n",
       "  <tbody>\n",
       "    <tr>\n",
       "      <th>0</th>\n",
       "      <td>Male</td>\n",
       "      <td>No</td>\n",
       "      <td>0</td>\n",
       "      <td>Graduate</td>\n",
       "      <td>Urban</td>\n",
       "      <td>No</td>\n",
       "      <td>5849</td>\n",
       "      <td>0.0</td>\n",
       "      <td>NaN</td>\n",
       "      <td>360.0</td>\n",
       "      <td>1.0</td>\n",
       "    </tr>\n",
       "    <tr>\n",
       "      <th>1</th>\n",
       "      <td>Male</td>\n",
       "      <td>Yes</td>\n",
       "      <td>1</td>\n",
       "      <td>Graduate</td>\n",
       "      <td>Rural</td>\n",
       "      <td>No</td>\n",
       "      <td>4583</td>\n",
       "      <td>1508.0</td>\n",
       "      <td>128.0</td>\n",
       "      <td>360.0</td>\n",
       "      <td>1.0</td>\n",
       "    </tr>\n",
       "    <tr>\n",
       "      <th>2</th>\n",
       "      <td>Male</td>\n",
       "      <td>Yes</td>\n",
       "      <td>0</td>\n",
       "      <td>Graduate</td>\n",
       "      <td>Urban</td>\n",
       "      <td>Yes</td>\n",
       "      <td>3000</td>\n",
       "      <td>0.0</td>\n",
       "      <td>66.0</td>\n",
       "      <td>360.0</td>\n",
       "      <td>1.0</td>\n",
       "    </tr>\n",
       "    <tr>\n",
       "      <th>3</th>\n",
       "      <td>Male</td>\n",
       "      <td>Yes</td>\n",
       "      <td>0</td>\n",
       "      <td>Not Graduate</td>\n",
       "      <td>Urban</td>\n",
       "      <td>No</td>\n",
       "      <td>2583</td>\n",
       "      <td>2358.0</td>\n",
       "      <td>120.0</td>\n",
       "      <td>360.0</td>\n",
       "      <td>1.0</td>\n",
       "    </tr>\n",
       "    <tr>\n",
       "      <th>4</th>\n",
       "      <td>Male</td>\n",
       "      <td>No</td>\n",
       "      <td>0</td>\n",
       "      <td>Graduate</td>\n",
       "      <td>Urban</td>\n",
       "      <td>No</td>\n",
       "      <td>6000</td>\n",
       "      <td>0.0</td>\n",
       "      <td>141.0</td>\n",
       "      <td>360.0</td>\n",
       "      <td>1.0</td>\n",
       "    </tr>\n",
       "  </tbody>\n",
       "</table>\n",
       "</div>"
      ],
      "text/plain": [
       "  Gender Married Dependents     Education Property_Area Self_Employed  \\\n",
       "0   Male      No          0      Graduate         Urban            No   \n",
       "1   Male     Yes          1      Graduate         Rural            No   \n",
       "2   Male     Yes          0      Graduate         Urban           Yes   \n",
       "3   Male     Yes          0  Not Graduate         Urban            No   \n",
       "4   Male      No          0      Graduate         Urban            No   \n",
       "\n",
       "   ApplicantIncome  CoapplicantIncome  LoanAmount  Loan_Amount_Term  \\\n",
       "0             5849                0.0         NaN             360.0   \n",
       "1             4583             1508.0       128.0             360.0   \n",
       "2             3000                0.0        66.0             360.0   \n",
       "3             2583             2358.0       120.0             360.0   \n",
       "4             6000                0.0       141.0             360.0   \n",
       "\n",
       "   Credit_History  \n",
       "0             1.0  \n",
       "1             1.0  \n",
       "2             1.0  \n",
       "3             1.0  \n",
       "4             1.0  "
      ]
     },
     "execution_count": 204,
     "metadata": {},
     "output_type": "execute_result"
    }
   ],
   "source": [
    "X.head()"
   ]
  },
  {
   "cell_type": "markdown",
   "metadata": {},
   "source": [
    "### Impute strategies\n",
    "1. Gender, Married, Dependents, Education, Property_Area, Self_Employed -- most requence\n",
    "2. Credit_History -- build unknow class\n",
    "3. ApplicanIncome, CoapplicatntIncome --- fillna with median \n",
    "4. LoanAmount --- Fillna or 0 with median\n",
    "5. Loan_Amount_Term --fillna or 0 with mode\n"
   ]
  },
  {
   "cell_type": "code",
   "execution_count": 86,
   "metadata": {
    "collapsed": false,
    "jupyter": {
     "outputs_hidden": false
    }
   },
   "outputs": [],
   "source": [
    "X['Credit_History'] = X['Credit_History'].fillna(value=2)"
   ]
  },
  {
   "cell_type": "code",
   "execution_count": null,
   "metadata": {},
   "outputs": [],
   "source": [
    "X[['Gender','Married','Dependents','Education','Property_Area','Self_Employed']].fillna("
   ]
  },
  {
   "cell_type": "code",
   "execution_count": 87,
   "metadata": {},
   "outputs": [
    {
     "data": {
      "text/plain": [
       "Gender               13\n",
       "Married               3\n",
       "Dependents           15\n",
       "Education             0\n",
       "Property_Area         0\n",
       "Self_Employed        32\n",
       "ApplicantIncome       0\n",
       "CoapplicantIncome     0\n",
       "LoanAmount           22\n",
       "Loan_Amount_Term     14\n",
       "Credit_History        0\n",
       "Property_Area         0\n",
       "dtype: int64"
      ]
     },
     "execution_count": 87,
     "metadata": {},
     "output_type": "execute_result"
    }
   ],
   "source": [
    "X.isnull().sum()"
   ]
  },
  {
   "cell_type": "markdown",
   "metadata": {},
   "source": [
    "### Extreme values\n",
    "Try a log transformation to get rid of the extreme values in `LoanAmount`. Plot the histogram before and after the transformation"
   ]
  },
  {
   "cell_type": "markdown",
   "metadata": {},
   "source": [
    "### Feature Engineering \n",
    "1. LoanAmount, ApppicantIncome --- Logtransform"
   ]
  },
  {
   "cell_type": "code",
   "execution_count": 30,
   "metadata": {
    "collapsed": false,
    "jupyter": {
     "outputs_hidden": false
    }
   },
   "outputs": [],
   "source": [
    "fun_trans = FunctionTransformer(np.log1p)"
   ]
  },
  {
   "cell_type": "markdown",
   "metadata": {},
   "source": [
    "Combine both incomes as total income and take a log transformation of the same."
   ]
  },
  {
   "cell_type": "code",
   "execution_count": 31,
   "metadata": {
    "collapsed": false,
    "jupyter": {
     "outputs_hidden": false
    }
   },
   "outputs": [],
   "source": [
    "X = fun_trans.fit_transform(df[['LoanAmount','ApplicantIncome']])"
   ]
  },
  {
   "cell_type": "code",
   "execution_count": 35,
   "metadata": {},
   "outputs": [
    {
     "data": {
      "text/plain": [
       "(array([ 1.,  0.,  1.,  0.,  0.,  0.,  0.,  0.,  1.,  0.,  0.,  2.,  0.,\n",
       "         0.,  0.,  3.,  0.,  3.,  4., 14., 21., 32., 57., 53., 67., 67.,\n",
       "        50., 49., 35., 43., 16., 20., 16., 14.,  8.,  5.,  8.,  8.,  6.,\n",
       "         2.,  1.,  0.,  0.,  2.,  2.,  0.,  1.,  0.,  1.,  1.]),\n",
       " array([ 5.01727984,  5.14297858,  5.26867731,  5.39437605,  5.52007479,\n",
       "         5.64577353,  5.77147227,  5.89717101,  6.02286975,  6.14856849,\n",
       "         6.27426723,  6.39996596,  6.5256647 ,  6.65136344,  6.77706218,\n",
       "         6.90276092,  7.02845966,  7.1541584 ,  7.27985714,  7.40555587,\n",
       "         7.53125461,  7.65695335,  7.78265209,  7.90835083,  8.03404957,\n",
       "         8.15974831,  8.28544705,  8.41114579,  8.53684452,  8.66254326,\n",
       "         8.788242  ,  8.91394074,  9.03963948,  9.16533822,  9.29103696,\n",
       "         9.4167357 ,  9.54243444,  9.66813317,  9.79383191,  9.91953065,\n",
       "        10.04522939, 10.17092813, 10.29662687, 10.42232561, 10.54802435,\n",
       "        10.67372309, 10.79942182, 10.92512056, 11.0508193 , 11.17651804,\n",
       "        11.30221678]),\n",
       " <BarContainer object of 50 artists>)"
      ]
     },
     "execution_count": 35,
     "metadata": {},
     "output_type": "execute_result"
    },
    {
     "data": {
      "image/png": "[encoded data removed]",
      "text/plain": [
       "<Figure size 432x288 with 1 Axes>"
      ]
     },
     "metadata": {
      "needs_background": "light"
     },
     "output_type": "display_data"
    }
   ],
   "source": [
    "plt.hist(X['ApplicantIncome'],bins=50)"
   ]
  },
  {
   "cell_type": "markdown",
   "metadata": {},
   "source": [
    "## 4. Building a Predictive Model"
   ]
  },
  {
   "cell_type": "code",
   "execution_count": 144,
   "metadata": {},
   "outputs": [],
   "source": [
    "pipeline = Pipeline(steps=[('classifier', LogisticRegression())])\n",
    "\n",
    "# Find the best hyperparameters and model using GridSearchCV on the train set\n",
    "param_grid = {'classifier': [RandomForestClassifier(),\n",
    "                             SVC(),\n",
    "                             LogisticRegression(),\n",
    "                             RandomForestClassifier(),\n",
    "                            AdaBoostClassifier(),\n",
    "                            GaussianNB(),\n",
    "                            XGBClassifier()]}    # Which is better?\n",
    "\n",
    "grid = GridSearchCV(pipeline, param_grid=param_grid, cv=5, n_jobs=-1)"
   ]
  },
  {
   "cell_type": "code",
   "execution_count": 145,
   "metadata": {},
   "outputs": [
    {
     "data": {
      "text/html": [
       "<style>#sk-393aee2b-df41-4c90-b547-a95bc7839042 {color: black;background-color: white;}#sk-393aee2b-df41-4c90-b547-a95bc7839042 pre{padding: 0;}#sk-393aee2b-df41-4c90-b547-a95bc7839042 div.sk-toggleable {background-color: white;}#sk-393aee2b-df41-4c90-b547-a95bc7839042 label.sk-toggleable__label {cursor: pointer;display: block;width: 100%;margin-bottom: 0;padding: 0.2em 0.3em;box-sizing: border-box;text-align: center;}#sk-393aee2b-df41-4c90-b547-a95bc7839042 div.sk-toggleable__content {max-height: 0;max-width: 0;overflow: hidden;text-align: left;background-color: #f0f8ff;}#sk-393aee2b-df41-4c90-b547-a95bc7839042 div.sk-toggleable__content pre {margin: 0.2em;color: black;border-radius: 0.25em;background-color: #f0f8ff;}#sk-393aee2b-df41-4c90-b547-a95bc7839042 input.sk-toggleable__control:checked~div.sk-toggleable__content {max-height: 200px;max-width: 100%;overflow: auto;}#sk-393aee2b-df41-4c90-b547-a95bc7839042 div.sk-estimator input.sk-toggleable__control:checked~label.sk-toggleable__label {background-color: #d4ebff;}#sk-393aee2b-df41-4c90-b547-a95bc7839042 div.sk-label input.sk-toggleable__control:checked~label.sk-toggleable__label {background-color: #d4ebff;}#sk-393aee2b-df41-4c90-b547-a95bc7839042 input.sk-hidden--visually {border: 0;clip: rect(1px 1px 1px 1px);clip: rect(1px, 1px, 1px, 1px);height: 1px;margin: -1px;overflow: hidden;padding: 0;position: absolute;width: 1px;}#sk-393aee2b-df41-4c90-b547-a95bc7839042 div.sk-estimator {font-family: monospace;background-color: #f0f8ff;margin: 0.25em 0.25em;border: 1px dotted black;border-radius: 0.25em;box-sizing: border-box;}#sk-393aee2b-df41-4c90-b547-a95bc7839042 div.sk-estimator:hover {background-color: #d4ebff;}#sk-393aee2b-df41-4c90-b547-a95bc7839042 div.sk-parallel-item::after {content: \"\";width: 100%;border-bottom: 1px solid gray;flex-grow: 1;}#sk-393aee2b-df41-4c90-b547-a95bc7839042 div.sk-label:hover label.sk-toggleable__label {background-color: #d4ebff;}#sk-393aee2b-df41-4c90-b547-a95bc7839042 div.sk-serial::before {content: \"\";position: absolute;border-left: 1px solid gray;box-sizing: border-box;top: 2em;bottom: 0;left: 50%;}#sk-393aee2b-df41-4c90-b547-a95bc7839042 div.sk-serial {display: flex;flex-direction: column;align-items: center;background-color: white;}#sk-393aee2b-df41-4c90-b547-a95bc7839042 div.sk-item {z-index: 1;}#sk-393aee2b-df41-4c90-b547-a95bc7839042 div.sk-parallel {display: flex;align-items: stretch;justify-content: center;background-color: white;}#sk-393aee2b-df41-4c90-b547-a95bc7839042 div.sk-parallel-item {display: flex;flex-direction: column;position: relative;background-color: white;}#sk-393aee2b-df41-4c90-b547-a95bc7839042 div.sk-parallel-item:first-child::after {align-self: flex-end;width: 50%;}#sk-393aee2b-df41-4c90-b547-a95bc7839042 div.sk-parallel-item:last-child::after {align-self: flex-start;width: 50%;}#sk-393aee2b-df41-4c90-b547-a95bc7839042 div.sk-parallel-item:only-child::after {width: 0;}#sk-393aee2b-df41-4c90-b547-a95bc7839042 div.sk-dashed-wrapped {border: 1px dashed gray;margin: 0.2em;box-sizing: border-box;padding-bottom: 0.1em;background-color: white;position: relative;}#sk-393aee2b-df41-4c90-b547-a95bc7839042 div.sk-label label {font-family: monospace;font-weight: bold;background-color: white;display: inline-block;line-height: 1.2em;}#sk-393aee2b-df41-4c90-b547-a95bc7839042 div.sk-label-container {position: relative;z-index: 2;text-align: center;}#sk-393aee2b-df41-4c90-b547-a95bc7839042 div.sk-container {display: inline-block;position: relative;}</style><div id=\"sk-393aee2b-df41-4c90-b547-a95bc7839042\" class\"sk-top-container\"><div class=\"sk-container\"><div class=\"sk-item sk-dashed-wrapped\"><div class=\"sk-label-container\"><div class=\"sk-label sk-toggleable\"><input class=\"sk-toggleable__control sk-hidden--visually\" id=\"67359a5b-380c-4f4b-813f-4b30161921f3\" type=\"checkbox\" ><label class=\"sk-toggleable__label\" for=\"67359a5b-380c-4f4b-813f-4b30161921f3\">GridSearchCV</label><div class=\"sk-toggleable__content\"><pre>GridSearchCV(cv=5,\n",
       "             estimator=Pipeline(steps=[('classifier', LogisticRegression())]),\n",
       "             n_jobs=-1,\n",
       "             param_grid={'classifier': [RandomForestClassifier(),\n",
       "                                        AdaBoostClassifier(), GaussianNB(),\n",
       "                                        XGBClassifier(base_score=None,\n",
       "                                                      booster=None,\n",
       "                                                      colsample_bylevel=None,\n",
       "                                                      colsample_bynode=None,\n",
       "                                                      colsample_bytree=None,\n",
       "                                                      gamma=None, gpu_id=None,\n",
       "                                                      importance_type='gain',\n",
       "                                                      interaction_constraints=None,\n",
       "                                                      learning_rate=None,\n",
       "                                                      max_delta_step=None,\n",
       "                                                      max_depth=None,\n",
       "                                                      min_child_weight=None,\n",
       "                                                      missing=nan,\n",
       "                                                      monotone_constraints=None,\n",
       "                                                      n_estimators=100,\n",
       "                                                      n_jobs=None,\n",
       "                                                      num_parallel_tree=None,\n",
       "                                                      random_state=None,\n",
       "                                                      reg_alpha=None,\n",
       "                                                      reg_lambda=None,\n",
       "                                                      scale_pos_weight=None,\n",
       "                                                      subsample=None,\n",
       "                                                      tree_method=None,\n",
       "                                                      validate_parameters=None,\n",
       "                                                      verbosity=None)]})</pre></div></div></div><div class=\"sk-parallel\"><div class=\"sk-parallel-item\"><div class=\"sk-item\"><div class=\"sk-serial\"><div class=\"sk-item\"><div class=\"sk-serial\"><div class=\"sk-item\"><div class=\"sk-estimator sk-toggleable\"><input class=\"sk-toggleable__control sk-hidden--visually\" id=\"432080f5-5553-42a5-b459-78c502cb61a1\" type=\"checkbox\" ><label class=\"sk-toggleable__label\" for=\"432080f5-5553-42a5-b459-78c502cb61a1\">LogisticRegression</label><div class=\"sk-toggleable__content\"><pre>LogisticRegression()</pre></div></div></div></div></div></div></div></div></div></div></div></div>"
      ],
      "text/plain": [
       "GridSearchCV(cv=5,\n",
       "             estimator=Pipeline(steps=[('classifier', LogisticRegression())]),\n",
       "             n_jobs=-1,\n",
       "             param_grid={'classifier': [RandomForestClassifier(),\n",
       "                                        AdaBoostClassifier(), GaussianNB(),\n",
       "                                        XGBClassifier(base_score=None,\n",
       "                                                      booster=None,\n",
       "                                                      colsample_bylevel=None,\n",
       "                                                      colsample_bynode=None,\n",
       "                                                      colsample_bytree=None,\n",
       "                                                      gamma=None, gpu_id=None,\n",
       "                                                      importance_type='gain',\n",
       "                                                      interaction_constraints=None,\n",
       "                                                      learning_rate=None,\n",
       "                                                      max_delta_step=None,\n",
       "                                                      max_depth=None,\n",
       "                                                      min_child_weight=None,\n",
       "                                                      missing=nan,\n",
       "                                                      monotone_constraints=None,\n",
       "                                                      n_estimators=100,\n",
       "                                                      n_jobs=None,\n",
       "                                                      num_parallel_tree=None,\n",
       "                                                      random_state=None,\n",
       "                                                      reg_alpha=None,\n",
       "                                                      reg_lambda=None,\n",
       "                                                      scale_pos_weight=None,\n",
       "                                                      subsample=None,\n",
       "                                                      tree_method=None,\n",
       "                                                      validate_parameters=None,\n",
       "                                                      verbosity=None)]})"
      ]
     },
     "execution_count": 145,
     "metadata": {},
     "output_type": "execute_result"
    }
   ],
   "source": [
    "grid.fit(X_train, y_train)"
   ]
  },
  {
   "cell_type": "code",
   "execution_count": 127,
   "metadata": {},
   "outputs": [
    {
     "data": {
      "text/plain": [
       "0.8195652173913043"
      ]
     },
     "execution_count": 130,
     "metadata": {},
     "output_type": "execute_result"
    }
   ],
   "source": [
    "grid.best_score_"
   ]
  },
  {
   "cell_type": "code",
   "execution_count": 160,
   "metadata": {},
   "outputs": [],
   "source": [
    "y_pred = grid.predict(X_test)"
   ]
  },
  {
   "cell_type": "code",
   "execution_count": 162,
   "metadata": {},
   "outputs": [
    {
     "name": "stdout",
     "output_type": "stream",
     "text": [
      "              precision    recall  f1-score   support\n",
      "\n",
      "           0       0.96      0.45      0.62        55\n",
      "           1       0.77      0.99      0.86        99\n",
      "\n",
      "    accuracy                           0.80       154\n",
      "   macro avg       0.86      0.72      0.74       154\n",
      "weighted avg       0.84      0.80      0.78       154\n",
      "\n"
     ]
    }
   ],
   "source": [
    "print(classification_report(y_test,y_pred))"
   ]
  },
  {
   "cell_type": "code",
   "execution_count": 149,
   "metadata": {},
   "outputs": [],
   "source": [
    "params = [{'kernel':['linear']},{'kernel':['rbf'],'C':[0.0001,0.005,1,10],'gamma':[0.0001,0.001]}]\n",
    "grid_svc = GridSearchCV(estimator=SVC(), param_grid=params, cv=5, n_jobs=-1)"
   ]
  },
  {
   "cell_type": "code",
   "execution_count": 150,
   "metadata": {},
   "outputs": [
    {
     "data": {
      "text/html": [
       "<style>#sk-2250aed2-474e-4a44-9ec3-40ba33908d3e {color: black;background-color: white;}#sk-2250aed2-474e-4a44-9ec3-40ba33908d3e pre{padding: 0;}#sk-2250aed2-474e-4a44-9ec3-40ba33908d3e div.sk-toggleable {background-color: white;}#sk-2250aed2-474e-4a44-9ec3-40ba33908d3e label.sk-toggleable__label {cursor: pointer;display: block;width: 100%;margin-bottom: 0;padding: 0.2em 0.3em;box-sizing: border-box;text-align: center;}#sk-2250aed2-474e-4a44-9ec3-40ba33908d3e div.sk-toggleable__content {max-height: 0;max-width: 0;overflow: hidden;text-align: left;background-color: #f0f8ff;}#sk-2250aed2-474e-4a44-9ec3-40ba33908d3e div.sk-toggleable__content pre {margin: 0.2em;color: black;border-radius: 0.25em;background-color: #f0f8ff;}#sk-2250aed2-474e-4a44-9ec3-40ba33908d3e input.sk-toggleable__control:checked~div.sk-toggleable__content {max-height: 200px;max-width: 100%;overflow: auto;}#sk-2250aed2-474e-4a44-9ec3-40ba33908d3e div.sk-estimator input.sk-toggleable__control:checked~label.sk-toggleable__label {background-color: #d4ebff;}#sk-2250aed2-474e-4a44-9ec3-40ba33908d3e div.sk-label input.sk-toggleable__control:checked~label.sk-toggleable__label {background-color: #d4ebff;}#sk-2250aed2-474e-4a44-9ec3-40ba33908d3e input.sk-hidden--visually {border: 0;clip: rect(1px 1px 1px 1px);clip: rect(1px, 1px, 1px, 1px);height: 1px;margin: -1px;overflow: hidden;padding: 0;position: absolute;width: 1px;}#sk-2250aed2-474e-4a44-9ec3-40ba33908d3e div.sk-estimator {font-family: monospace;background-color: #f0f8ff;margin: 0.25em 0.25em;border: 1px dotted black;border-radius: 0.25em;box-sizing: border-box;}#sk-2250aed2-474e-4a44-9ec3-40ba33908d3e div.sk-estimator:hover {background-color: #d4ebff;}#sk-2250aed2-474e-4a44-9ec3-40ba33908d3e div.sk-parallel-item::after {content: \"\";width: 100%;border-bottom: 1px solid gray;flex-grow: 1;}#sk-2250aed2-474e-4a44-9ec3-40ba33908d3e div.sk-label:hover label.sk-toggleable__label {background-color: #d4ebff;}#sk-2250aed2-474e-4a44-9ec3-40ba33908d3e div.sk-serial::before {content: \"\";position: absolute;border-left: 1px solid gray;box-sizing: border-box;top: 2em;bottom: 0;left: 50%;}#sk-2250aed2-474e-4a44-9ec3-40ba33908d3e div.sk-serial {display: flex;flex-direction: column;align-items: center;background-color: white;}#sk-2250aed2-474e-4a44-9ec3-40ba33908d3e div.sk-item {z-index: 1;}#sk-2250aed2-474e-4a44-9ec3-40ba33908d3e div.sk-parallel {display: flex;align-items: stretch;justify-content: center;background-color: white;}#sk-2250aed2-474e-4a44-9ec3-40ba33908d3e div.sk-parallel-item {display: flex;flex-direction: column;position: relative;background-color: white;}#sk-2250aed2-474e-4a44-9ec3-40ba33908d3e div.sk-parallel-item:first-child::after {align-self: flex-end;width: 50%;}#sk-2250aed2-474e-4a44-9ec3-40ba33908d3e div.sk-parallel-item:last-child::after {align-self: flex-start;width: 50%;}#sk-2250aed2-474e-4a44-9ec3-40ba33908d3e div.sk-parallel-item:only-child::after {width: 0;}#sk-2250aed2-474e-4a44-9ec3-40ba33908d3e div.sk-dashed-wrapped {border: 1px dashed gray;margin: 0.2em;box-sizing: border-box;padding-bottom: 0.1em;background-color: white;position: relative;}#sk-2250aed2-474e-4a44-9ec3-40ba33908d3e div.sk-label label {font-family: monospace;font-weight: bold;background-color: white;display: inline-block;line-height: 1.2em;}#sk-2250aed2-474e-4a44-9ec3-40ba33908d3e div.sk-label-container {position: relative;z-index: 2;text-align: center;}#sk-2250aed2-474e-4a44-9ec3-40ba33908d3e div.sk-container {display: inline-block;position: relative;}</style><div id=\"sk-2250aed2-474e-4a44-9ec3-40ba33908d3e\" class\"sk-top-container\"><div class=\"sk-container\"><div class=\"sk-item sk-dashed-wrapped\"><div class=\"sk-label-container\"><div class=\"sk-label sk-toggleable\"><input class=\"sk-toggleable__control sk-hidden--visually\" id=\"2610622b-d472-482e-8798-aa3a5b82c82b\" type=\"checkbox\" ><label class=\"sk-toggleable__label\" for=\"2610622b-d472-482e-8798-aa3a5b82c82b\">GridSearchCV</label><div class=\"sk-toggleable__content\"><pre>GridSearchCV(cv=5, estimator=SVC(), n_jobs=-1,\n",
       "             param_grid=[{'kernel': ['linear']},\n",
       "                         {'C': [0.0001, 0.005, 1, 10], 'gamma': [0.0001, 0.001],\n",
       "                          'kernel': ['rbf']}])</pre></div></div></div><div class=\"sk-parallel\"><div class=\"sk-parallel-item\"><div class=\"sk-item\"><div class=\"sk-serial\"><div class=\"sk-item\"><div class=\"sk-estimator sk-toggleable\"><input class=\"sk-toggleable__control sk-hidden--visually\" id=\"4b0c91b6-c6e4-4326-9973-70d9c27283dd\" type=\"checkbox\" ><label class=\"sk-toggleable__label\" for=\"4b0c91b6-c6e4-4326-9973-70d9c27283dd\">SVC</label><div class=\"sk-toggleable__content\"><pre>SVC()</pre></div></div></div></div></div></div></div></div></div></div>"
      ],
      "text/plain": [
       "GridSearchCV(cv=5, estimator=SVC(), n_jobs=-1,\n",
       "             param_grid=[{'kernel': ['linear']},\n",
       "                         {'C': [0.0001, 0.005, 1, 10], 'gamma': [0.0001, 0.001],\n",
       "                          'kernel': ['rbf']}])"
      ]
     },
     "execution_count": 150,
     "metadata": {},
     "output_type": "execute_result"
    }
   ],
   "source": [
    "grid_svc.fit(X_train,y_train)"
   ]
  },
  {
   "cell_type": "code",
   "execution_count": 153,
   "metadata": {},
   "outputs": [
    {
     "data": {
      "text/plain": [
       "0.8195652173913043"
      ]
     },
     "execution_count": 153,
     "metadata": {},
     "output_type": "execute_result"
    }
   ],
   "source": [
    "grid_svc.best_score_"
   ]
  },
  {
   "cell_type": "code",
   "execution_count": 156,
   "metadata": {},
   "outputs": [],
   "source": [
    "y_pred = grid_svc.predict(X_test)"
   ]
  },
  {
   "cell_type": "code",
   "execution_count": 157,
   "metadata": {},
   "outputs": [
    {
     "data": {
      "text/plain": [
       "0.7792207792207793"
      ]
     },
     "execution_count": 157,
     "metadata": {},
     "output_type": "execute_result"
    }
   ],
   "source": [
    "accuracy_score(y_test, y_pred)"
   ]
  },
  {
   "cell_type": "code",
   "execution_count": 159,
   "metadata": {},
   "outputs": [
    {
     "name": "stdout",
     "output_type": "stream",
     "text": [
      "              precision    recall  f1-score   support\n",
      "\n",
      "           0       1.00      0.38      0.55        55\n",
      "           1       0.74      1.00      0.85        99\n",
      "\n",
      "    accuracy                           0.78       154\n",
      "   macro avg       0.87      0.69      0.70       154\n",
      "weighted avg       0.84      0.78      0.75       154\n",
      "\n"
     ]
    }
   ],
   "source": [
    "print(classification_report(y_test,y_pred))"
   ]
  },
  {
   "cell_type": "code",
   "execution_count": 197,
   "metadata": {},
   "outputs": [
    {
     "data": {
      "text/html": [
       "<style>#sk-a0b071c7-ea90-4d03-94fd-eb72d3b73fd0 {color: black;background-color: white;}#sk-a0b071c7-ea90-4d03-94fd-eb72d3b73fd0 pre{padding: 0;}#sk-a0b071c7-ea90-4d03-94fd-eb72d3b73fd0 div.sk-toggleable {background-color: white;}#sk-a0b071c7-ea90-4d03-94fd-eb72d3b73fd0 label.sk-toggleable__label {cursor: pointer;display: block;width: 100%;margin-bottom: 0;padding: 0.2em 0.3em;box-sizing: border-box;text-align: center;}#sk-a0b071c7-ea90-4d03-94fd-eb72d3b73fd0 div.sk-toggleable__content {max-height: 0;max-width: 0;overflow: hidden;text-align: left;background-color: #f0f8ff;}#sk-a0b071c7-ea90-4d03-94fd-eb72d3b73fd0 div.sk-toggleable__content pre {margin: 0.2em;color: black;border-radius: 0.25em;background-color: #f0f8ff;}#sk-a0b071c7-ea90-4d03-94fd-eb72d3b73fd0 input.sk-toggleable__control:checked~div.sk-toggleable__content {max-height: 200px;max-width: 100%;overflow: auto;}#sk-a0b071c7-ea90-4d03-94fd-eb72d3b73fd0 div.sk-estimator input.sk-toggleable__control:checked~label.sk-toggleable__label {background-color: #d4ebff;}#sk-a0b071c7-ea90-4d03-94fd-eb72d3b73fd0 div.sk-label input.sk-toggleable__control:checked~label.sk-toggleable__label {background-color: #d4ebff;}#sk-a0b071c7-ea90-4d03-94fd-eb72d3b73fd0 input.sk-hidden--visually {border: 0;clip: rect(1px 1px 1px 1px);clip: rect(1px, 1px, 1px, 1px);height: 1px;margin: -1px;overflow: hidden;padding: 0;position: absolute;width: 1px;}#sk-a0b071c7-ea90-4d03-94fd-eb72d3b73fd0 div.sk-estimator {font-family: monospace;background-color: #f0f8ff;margin: 0.25em 0.25em;border: 1px dotted black;border-radius: 0.25em;box-sizing: border-box;}#sk-a0b071c7-ea90-4d03-94fd-eb72d3b73fd0 div.sk-estimator:hover {background-color: #d4ebff;}#sk-a0b071c7-ea90-4d03-94fd-eb72d3b73fd0 div.sk-parallel-item::after {content: \"\";width: 100%;border-bottom: 1px solid gray;flex-grow: 1;}#sk-a0b071c7-ea90-4d03-94fd-eb72d3b73fd0 div.sk-label:hover label.sk-toggleable__label {background-color: #d4ebff;}#sk-a0b071c7-ea90-4d03-94fd-eb72d3b73fd0 div.sk-serial::before {content: \"\";position: absolute;border-left: 1px solid gray;box-sizing: border-box;top: 2em;bottom: 0;left: 50%;}#sk-a0b071c7-ea90-4d03-94fd-eb72d3b73fd0 div.sk-serial {display: flex;flex-direction: column;align-items: center;background-color: white;}#sk-a0b071c7-ea90-4d03-94fd-eb72d3b73fd0 div.sk-item {z-index: 1;}#sk-a0b071c7-ea90-4d03-94fd-eb72d3b73fd0 div.sk-parallel {display: flex;align-items: stretch;justify-content: center;background-color: white;}#sk-a0b071c7-ea90-4d03-94fd-eb72d3b73fd0 div.sk-parallel-item {display: flex;flex-direction: column;position: relative;background-color: white;}#sk-a0b071c7-ea90-4d03-94fd-eb72d3b73fd0 div.sk-parallel-item:first-child::after {align-self: flex-end;width: 50%;}#sk-a0b071c7-ea90-4d03-94fd-eb72d3b73fd0 div.sk-parallel-item:last-child::after {align-self: flex-start;width: 50%;}#sk-a0b071c7-ea90-4d03-94fd-eb72d3b73fd0 div.sk-parallel-item:only-child::after {width: 0;}#sk-a0b071c7-ea90-4d03-94fd-eb72d3b73fd0 div.sk-dashed-wrapped {border: 1px dashed gray;margin: 0.2em;box-sizing: border-box;padding-bottom: 0.1em;background-color: white;position: relative;}#sk-a0b071c7-ea90-4d03-94fd-eb72d3b73fd0 div.sk-label label {font-family: monospace;font-weight: bold;background-color: white;display: inline-block;line-height: 1.2em;}#sk-a0b071c7-ea90-4d03-94fd-eb72d3b73fd0 div.sk-label-container {position: relative;z-index: 2;text-align: center;}#sk-a0b071c7-ea90-4d03-94fd-eb72d3b73fd0 div.sk-container {display: inline-block;position: relative;}</style><div id=\"sk-a0b071c7-ea90-4d03-94fd-eb72d3b73fd0\" class\"sk-top-container\"><div class=\"sk-container\"><div class=\"sk-item sk-dashed-wrapped\"><div class=\"sk-label-container\"><div class=\"sk-label sk-toggleable\"><input class=\"sk-toggleable__control sk-hidden--visually\" id=\"fd589086-3ed5-4e1e-a4bf-a070b9c5202b\" type=\"checkbox\" ><label class=\"sk-toggleable__label\" for=\"fd589086-3ed5-4e1e-a4bf-a070b9c5202b\">GridSearchCV</label><div class=\"sk-toggleable__content\"><pre>GridSearchCV(cv=5, estimator=SVC(), n_jobs=-1, param_grid={})</pre></div></div></div><div class=\"sk-parallel\"><div class=\"sk-parallel-item\"><div class=\"sk-item\"><div class=\"sk-serial\"><div class=\"sk-item\"><div class=\"sk-estimator sk-toggleable\"><input class=\"sk-toggleable__control sk-hidden--visually\" id=\"10986899-6145-4d2e-8134-fb19fffc58ea\" type=\"checkbox\" ><label class=\"sk-toggleable__label\" for=\"10986899-6145-4d2e-8134-fb19fffc58ea\">SVC</label><div class=\"sk-toggleable__content\"><pre>SVC()</pre></div></div></div></div></div></div></div></div></div></div>"
      ],
      "text/plain": [
       "GridSearchCV(cv=5, estimator=SVC(), n_jobs=-1, param_grid={})"
      ]
     },
     "execution_count": 197,
     "metadata": {},
     "output_type": "execute_result"
    }
   ],
   "source": [
    "params = { }\n",
    "grid_ran = GridSearchCV(estimator=SVC(),param_grid=params,  cv=5, n_jobs=-1)\n",
    "grid_ran.fit(X_train,y_train)"
   ]
  },
  {
   "cell_type": "code",
   "execution_count": 170,
   "metadata": {},
   "outputs": [
    {
     "data": {
      "text/html": [
       "<style>#sk-97a1157b-28d4-42e8-afee-c164c2aa188e {color: black;background-color: white;}#sk-97a1157b-28d4-42e8-afee-c164c2aa188e pre{padding: 0;}#sk-97a1157b-28d4-42e8-afee-c164c2aa188e div.sk-toggleable {background-color: white;}#sk-97a1157b-28d4-42e8-afee-c164c2aa188e label.sk-toggleable__label {cursor: pointer;display: block;width: 100%;margin-bottom: 0;padding: 0.2em 0.3em;box-sizing: border-box;text-align: center;}#sk-97a1157b-28d4-42e8-afee-c164c2aa188e div.sk-toggleable__content {max-height: 0;max-width: 0;overflow: hidden;text-align: left;background-color: #f0f8ff;}#sk-97a1157b-28d4-42e8-afee-c164c2aa188e div.sk-toggleable__content pre {margin: 0.2em;color: black;border-radius: 0.25em;background-color: #f0f8ff;}#sk-97a1157b-28d4-42e8-afee-c164c2aa188e input.sk-toggleable__control:checked~div.sk-toggleable__content {max-height: 200px;max-width: 100%;overflow: auto;}#sk-97a1157b-28d4-42e8-afee-c164c2aa188e div.sk-estimator input.sk-toggleable__control:checked~label.sk-toggleable__label {background-color: #d4ebff;}#sk-97a1157b-28d4-42e8-afee-c164c2aa188e div.sk-label input.sk-toggleable__control:checked~label.sk-toggleable__label {background-color: #d4ebff;}#sk-97a1157b-28d4-42e8-afee-c164c2aa188e input.sk-hidden--visually {border: 0;clip: rect(1px 1px 1px 1px);clip: rect(1px, 1px, 1px, 1px);height: 1px;margin: -1px;overflow: hidden;padding: 0;position: absolute;width: 1px;}#sk-97a1157b-28d4-42e8-afee-c164c2aa188e div.sk-estimator {font-family: monospace;background-color: #f0f8ff;margin: 0.25em 0.25em;border: 1px dotted black;border-radius: 0.25em;box-sizing: border-box;}#sk-97a1157b-28d4-42e8-afee-c164c2aa188e div.sk-estimator:hover {background-color: #d4ebff;}#sk-97a1157b-28d4-42e8-afee-c164c2aa188e div.sk-parallel-item::after {content: \"\";width: 100%;border-bottom: 1px solid gray;flex-grow: 1;}#sk-97a1157b-28d4-42e8-afee-c164c2aa188e div.sk-label:hover label.sk-toggleable__label {background-color: #d4ebff;}#sk-97a1157b-28d4-42e8-afee-c164c2aa188e div.sk-serial::before {content: \"\";position: absolute;border-left: 1px solid gray;box-sizing: border-box;top: 2em;bottom: 0;left: 50%;}#sk-97a1157b-28d4-42e8-afee-c164c2aa188e div.sk-serial {display: flex;flex-direction: column;align-items: center;background-color: white;}#sk-97a1157b-28d4-42e8-afee-c164c2aa188e div.sk-item {z-index: 1;}#sk-97a1157b-28d4-42e8-afee-c164c2aa188e div.sk-parallel {display: flex;align-items: stretch;justify-content: center;background-color: white;}#sk-97a1157b-28d4-42e8-afee-c164c2aa188e div.sk-parallel-item {display: flex;flex-direction: column;position: relative;background-color: white;}#sk-97a1157b-28d4-42e8-afee-c164c2aa188e div.sk-parallel-item:first-child::after {align-self: flex-end;width: 50%;}#sk-97a1157b-28d4-42e8-afee-c164c2aa188e div.sk-parallel-item:last-child::after {align-self: flex-start;width: 50%;}#sk-97a1157b-28d4-42e8-afee-c164c2aa188e div.sk-parallel-item:only-child::after {width: 0;}#sk-97a1157b-28d4-42e8-afee-c164c2aa188e div.sk-dashed-wrapped {border: 1px dashed gray;margin: 0.2em;box-sizing: border-box;padding-bottom: 0.1em;background-color: white;position: relative;}#sk-97a1157b-28d4-42e8-afee-c164c2aa188e div.sk-label label {font-family: monospace;font-weight: bold;background-color: white;display: inline-block;line-height: 1.2em;}#sk-97a1157b-28d4-42e8-afee-c164c2aa188e div.sk-label-container {position: relative;z-index: 2;text-align: center;}#sk-97a1157b-28d4-42e8-afee-c164c2aa188e div.sk-container {display: inline-block;position: relative;}</style><div id=\"sk-97a1157b-28d4-42e8-afee-c164c2aa188e\" class\"sk-top-container\"><div class=\"sk-container\"><div class=\"sk-item\"><div class=\"sk-estimator sk-toggleable\"><input class=\"sk-toggleable__control sk-hidden--visually\" id=\"15f63a26-f866-440b-88c1-b209dd0ca518\" type=\"checkbox\" checked><label class=\"sk-toggleable__label\" for=\"15f63a26-f866-440b-88c1-b209dd0ca518\">RandomForestClassifier</label><div class=\"sk-toggleable__content\"><pre>RandomForestClassifier()</pre></div></div></div></div></div>"
      ],
      "text/plain": [
       "RandomForestClassifier()"
      ]
     },
     "execution_count": 170,
     "metadata": {},
     "output_type": "execute_result"
    }
   ],
   "source": [
    "grid_r = RandomForestClassifier()\n",
    "grid_r.fit(X_train,y_train)"
   ]
  },
  {
   "cell_type": "code",
   "execution_count": 198,
   "metadata": {},
   "outputs": [],
   "source": [
    "y_pred = grid_ran.predict(X_test)"
   ]
  },
  {
   "cell_type": "code",
   "execution_count": 196,
   "metadata": {},
   "outputs": [
    {
     "name": "stdout",
     "output_type": "stream",
     "text": [
      "              precision    recall  f1-score   support\n",
      "\n",
      "           0       0.88      0.40      0.55        55\n",
      "           1       0.74      0.97      0.84        99\n",
      "\n",
      "    accuracy                           0.77       154\n",
      "   macro avg       0.81      0.68      0.70       154\n",
      "weighted avg       0.79      0.77      0.74       154\n",
      "\n"
     ]
    }
   ],
   "source": [
    "print(classification_report(y_test,y_pred))"
   ]
  },
  {
   "cell_type": "code",
   "execution_count": 193,
   "metadata": {},
   "outputs": [
    {
     "name": "stdout",
     "output_type": "stream",
     "text": [
      "              precision    recall  f1-score   support\n",
      "\n",
      "           0       0.88      0.38      0.53        55\n",
      "           1       0.74      0.97      0.84        99\n",
      "\n",
      "    accuracy                           0.76       154\n",
      "   macro avg       0.81      0.68      0.69       154\n",
      "weighted avg       0.79      0.76      0.73       154\n",
      "\n"
     ]
    }
   ],
   "source": [
    "print(classification_report(y_test,y_pred))"
   ]
  },
  {
   "cell_type": "code",
   "execution_count": 199,
   "metadata": {},
   "outputs": [
    {
     "name": "stdout",
     "output_type": "stream",
     "text": [
      "              precision    recall  f1-score   support\n",
      "\n",
      "           0       1.00      0.38      0.55        55\n",
      "           1       0.74      1.00      0.85        99\n",
      "\n",
      "    accuracy                           0.78       154\n",
      "   macro avg       0.87      0.69      0.70       154\n",
      "weighted avg       0.84      0.78      0.75       154\n",
      "\n"
     ]
    }
   ],
   "source": [
    "print(classification_report(y_test,y_pred))"
   ]
  },
  {
   "cell_type": "code",
   "execution_count": null,
   "metadata": {
    "collapsed": false,
    "jupyter": {
     "outputs_hidden": false
    }
   },
   "outputs": [],
   "source": [
    "from sklearn.linear_model import LogisticRegression\n",
    "from sklearn.ensemble import RandomForestClassifier\n",
    "from sklearn.ensemble import AdaBoostClassifier\n",
    "from sklearn.naive_bayes import GaussianNB\n",
    "from sklearn.svm import SVC\n",
    "from xgboost import XGBClassifier"
   ]
  },
  {
   "cell_type": "code",
   "execution_count": null,
   "metadata": {
    "collapsed": false,
    "jupyter": {
     "outputs_hidden": false
    }
   },
   "outputs": [],
   "source": []
  },
  {
   "cell_type": "markdown",
   "metadata": {
    "jupyter": {
     "outputs_hidden": false
    }
   },
   "source": [
    "## 5. Using Pipeline\n",
    "If you didn't use pipelines before, transform your data prep, feat. engineering and modeling steps into Pipeline. It will be helpful for deployment.\n",
    "\n",
    "The goal here is to create the pipeline that will take one row of our dataset and predict the probability of being granted a loan.\n",
    "\n",
    "`pipeline.predict(x)`"
   ]
  },
  {
   "cell_type": "code",
   "execution_count": 104,
   "metadata": {},
   "outputs": [],
   "source": [
    "##preprocessing 对字段分别做相关的处理\n",
    "numeric_0_transform = Pipeline([('impute_median_0', SimpleImputer(strategy='median')), \n",
    "                              ('impute_median2_0', SimpleImputer(missing_values=0,strategy='median')),\n",
    "                              ('log_transform_0', FunctionTransformer(np.log1p)),\n",
    "                              ('scaling_0', StandardScaler())])\n",
    "\n",
    "numeric_transform = Pipeline([('impute_median', SimpleImputer(strategy='median')), \n",
    "                              ('log_transform', FunctionTransformer(np.log1p)),\n",
    "                              ('scaling', StandardScaler())])\n",
    "\n",
    "categorical_transform = Pipeline([('impute_mode', SimpleImputer(strategy='most_frequent')), \n",
    "                                  ('one-hot-encode', OneHotEncoder(sparse=False))])\n",
    "\n",
    "categorical_transform_credit_his = Pipeline([('impute_value', SimpleImputer(fill_value=2)), \n",
    "                                  ('one-hot-encode_c', OneHotEncoder(sparse=False))])\n",
    "\n",
    "preprocessing_loan = ColumnTransformer([('numeric', numeric_transform, ['ApplicantIncome','CoapplicantIncome']), \n",
    "                                        ('numeric_0', numeric_0_transform, ['LoanAmount','Loan_Amount_Term']), \n",
    "                                        ('categorical', categorical_transform, ['Gender','Married','Dependents','Education','Property_Area','Self_Employed']),\n",
    "                                        ('categorical_cre_his',categorical_transform_credit_his,['Credit_History'])])"
   ]
  },
  {
   "cell_type": "code",
   "execution_count": 201,
   "metadata": {},
   "outputs": [],
   "source": [
    "pipeline = Pipeline(steps=[('data_prepare',preprocessing_loan),\n",
    "                           ('classifier',SVC())])"
   ]
  },
  {
   "cell_type": "code",
   "execution_count": 202,
   "metadata": {},
   "outputs": [
    {
     "data": {
      "text/html": [
       "<style>#sk-d364d09d-20dd-4358-a61b-95af46473559 {color: black;background-color: white;}#sk-d364d09d-20dd-4358-a61b-95af46473559 pre{padding: 0;}#sk-d364d09d-20dd-4358-a61b-95af46473559 div.sk-toggleable {background-color: white;}#sk-d364d09d-20dd-4358-a61b-95af46473559 label.sk-toggleable__label {cursor: pointer;display: block;width: 100%;margin-bottom: 0;padding: 0.2em 0.3em;box-sizing: border-box;text-align: center;}#sk-d364d09d-20dd-4358-a61b-95af46473559 div.sk-toggleable__content {max-height: 0;max-width: 0;overflow: hidden;text-align: left;background-color: #f0f8ff;}#sk-d364d09d-20dd-4358-a61b-95af46473559 div.sk-toggleable__content pre {margin: 0.2em;color: black;border-radius: 0.25em;background-color: #f0f8ff;}#sk-d364d09d-20dd-4358-a61b-95af46473559 input.sk-toggleable__control:checked~div.sk-toggleable__content {max-height: 200px;max-width: 100%;overflow: auto;}#sk-d364d09d-20dd-4358-a61b-95af46473559 div.sk-estimator input.sk-toggleable__control:checked~label.sk-toggleable__label {background-color: #d4ebff;}#sk-d364d09d-20dd-4358-a61b-95af46473559 div.sk-label input.sk-toggleable__control:checked~label.sk-toggleable__label {background-color: #d4ebff;}#sk-d364d09d-20dd-4358-a61b-95af46473559 input.sk-hidden--visually {border: 0;clip: rect(1px 1px 1px 1px);clip: rect(1px, 1px, 1px, 1px);height: 1px;margin: -1px;overflow: hidden;padding: 0;position: absolute;width: 1px;}#sk-d364d09d-20dd-4358-a61b-95af46473559 div.sk-estimator {font-family: monospace;background-color: #f0f8ff;margin: 0.25em 0.25em;border: 1px dotted black;border-radius: 0.25em;box-sizing: border-box;}#sk-d364d09d-20dd-4358-a61b-95af46473559 div.sk-estimator:hover {background-color: #d4ebff;}#sk-d364d09d-20dd-4358-a61b-95af46473559 div.sk-parallel-item::after {content: \"\";width: 100%;border-bottom: 1px solid gray;flex-grow: 1;}#sk-d364d09d-20dd-4358-a61b-95af46473559 div.sk-label:hover label.sk-toggleable__label {background-color: #d4ebff;}#sk-d364d09d-20dd-4358-a61b-95af46473559 div.sk-serial::before {content: \"\";position: absolute;border-left: 1px solid gray;box-sizing: border-box;top: 2em;bottom: 0;left: 50%;}#sk-d364d09d-20dd-4358-a61b-95af46473559 div.sk-serial {display: flex;flex-direction: column;align-items: center;background-color: white;}#sk-d364d09d-20dd-4358-a61b-95af46473559 div.sk-item {z-index: 1;}#sk-d364d09d-20dd-4358-a61b-95af46473559 div.sk-parallel {display: flex;align-items: stretch;justify-content: center;background-color: white;}#sk-d364d09d-20dd-4358-a61b-95af46473559 div.sk-parallel-item {display: flex;flex-direction: column;position: relative;background-color: white;}#sk-d364d09d-20dd-4358-a61b-95af46473559 div.sk-parallel-item:first-child::after {align-self: flex-end;width: 50%;}#sk-d364d09d-20dd-4358-a61b-95af46473559 div.sk-parallel-item:last-child::after {align-self: flex-start;width: 50%;}#sk-d364d09d-20dd-4358-a61b-95af46473559 div.sk-parallel-item:only-child::after {width: 0;}#sk-d364d09d-20dd-4358-a61b-95af46473559 div.sk-dashed-wrapped {border: 1px dashed gray;margin: 0.2em;box-sizing: border-box;padding-bottom: 0.1em;background-color: white;position: relative;}#sk-d364d09d-20dd-4358-a61b-95af46473559 div.sk-label label {font-family: monospace;font-weight: bold;background-color: white;display: inline-block;line-height: 1.2em;}#sk-d364d09d-20dd-4358-a61b-95af46473559 div.sk-label-container {position: relative;z-index: 2;text-align: center;}#sk-d364d09d-20dd-4358-a61b-95af46473559 div.sk-container {display: inline-block;position: relative;}</style><div id=\"sk-d364d09d-20dd-4358-a61b-95af46473559\" class\"sk-top-container\"><div class=\"sk-container\"><div class=\"sk-item sk-dashed-wrapped\"><div class=\"sk-label-container\"><div class=\"sk-label sk-toggleable\"><input class=\"sk-toggleable__control sk-hidden--visually\" id=\"aa472409-563f-4421-bcc5-69e79dc7ee52\" type=\"checkbox\" ><label class=\"sk-toggleable__label\" for=\"aa472409-563f-4421-bcc5-69e79dc7ee52\">Pipeline</label><div class=\"sk-toggleable__content\"><pre>Pipeline(steps=[('data_prepare',\n",
       "                 ColumnTransformer(transformers=[('numeric',\n",
       "                                                  Pipeline(steps=[('impute_median',\n",
       "                                                                   SimpleImputer(strategy='median')),\n",
       "                                                                  ('log_transform',\n",
       "                                                                   FunctionTransformer(func=<ufunc 'log1p'>)),\n",
       "                                                                  ('scaling',\n",
       "                                                                   StandardScaler())]),\n",
       "                                                  ['ApplicantIncome',\n",
       "                                                   'CoapplicantIncome']),\n",
       "                                                 ('numeric_0',\n",
       "                                                  Pipeline(steps=[('impute_median_0',\n",
       "                                                                   SimpleImputer(strategy='media...\n",
       "                                                  Pipeline(steps=[('impute_mode',\n",
       "                                                                   SimpleImputer(strategy='most_frequent')),\n",
       "                                                                  ('one-hot-encode',\n",
       "                                                                   OneHotEncoder(sparse=False))]),\n",
       "                                                  ['Gender', 'Married',\n",
       "                                                   'Dependents', 'Education',\n",
       "                                                   'Property_Area',\n",
       "                                                   'Self_Employed']),\n",
       "                                                 ('categorical_cre_his',\n",
       "                                                  Pipeline(steps=[('impute_value',\n",
       "                                                                   SimpleImputer(fill_value=2)),\n",
       "                                                                  ('one-hot-encode_c',\n",
       "                                                                   OneHotEncoder(sparse=False))]),\n",
       "                                                  ['Credit_History'])])),\n",
       "                ('classifier', SVC())])</pre></div></div></div><div class=\"sk-serial\"><div class=\"sk-item sk-dashed-wrapped\"><div class=\"sk-label-container\"><div class=\"sk-label sk-toggleable\"><input class=\"sk-toggleable__control sk-hidden--visually\" id=\"c083ca51-a5f2-43ab-a2bb-ff5eac93af10\" type=\"checkbox\" ><label class=\"sk-toggleable__label\" for=\"c083ca51-a5f2-43ab-a2bb-ff5eac93af10\">data_prepare: ColumnTransformer</label><div class=\"sk-toggleable__content\"><pre>ColumnTransformer(transformers=[('numeric',\n",
       "                                 Pipeline(steps=[('impute_median',\n",
       "                                                  SimpleImputer(strategy='median')),\n",
       "                                                 ('log_transform',\n",
       "                                                  FunctionTransformer(func=<ufunc 'log1p'>)),\n",
       "                                                 ('scaling',\n",
       "                                                  StandardScaler())]),\n",
       "                                 ['ApplicantIncome', 'CoapplicantIncome']),\n",
       "                                ('numeric_0',\n",
       "                                 Pipeline(steps=[('impute_median_0',\n",
       "                                                  SimpleImputer(strategy='median')),\n",
       "                                                 ('impute_median2_0',\n",
       "                                                  SimpleI...\n",
       "                                 Pipeline(steps=[('impute_mode',\n",
       "                                                  SimpleImputer(strategy='most_frequent')),\n",
       "                                                 ('one-hot-encode',\n",
       "                                                  OneHotEncoder(sparse=False))]),\n",
       "                                 ['Gender', 'Married', 'Dependents',\n",
       "                                  'Education', 'Property_Area',\n",
       "                                  'Self_Employed']),\n",
       "                                ('categorical_cre_his',\n",
       "                                 Pipeline(steps=[('impute_value',\n",
       "                                                  SimpleImputer(fill_value=2)),\n",
       "                                                 ('one-hot-encode_c',\n",
       "                                                  OneHotEncoder(sparse=False))]),\n",
       "                                 ['Credit_History'])])</pre></div></div></div><div class=\"sk-parallel\"><div class=\"sk-parallel-item\"><div class=\"sk-item\"><div class=\"sk-label-container\"><div class=\"sk-label sk-toggleable\"><input class=\"sk-toggleable__control sk-hidden--visually\" id=\"88d28032-859a-4fe7-aaa4-358dc44aee26\" type=\"checkbox\" ><label class=\"sk-toggleable__label\" for=\"88d28032-859a-4fe7-aaa4-358dc44aee26\">numeric</label><div class=\"sk-toggleable__content\"><pre>['ApplicantIncome', 'CoapplicantIncome']</pre></div></div></div><div class=\"sk-serial\"><div class=\"sk-item\"><div class=\"sk-serial\"><div class=\"sk-item\"><div class=\"sk-estimator sk-toggleable\"><input class=\"sk-toggleable__control sk-hidden--visually\" id=\"a59c814c-de9d-4d0f-a46d-775ec5c7e5d5\" type=\"checkbox\" ><label class=\"sk-toggleable__label\" for=\"a59c814c-de9d-4d0f-a46d-775ec5c7e5d5\">SimpleImputer</label><div class=\"sk-toggleable__content\"><pre>SimpleImputer(strategy='median')</pre></div></div></div><div class=\"sk-item\"><div class=\"sk-estimator sk-toggleable\"><input class=\"sk-toggleable__control sk-hidden--visually\" id=\"ba0b5747-2868-4330-a892-8e5e55b4d9e7\" type=\"checkbox\" ><label class=\"sk-toggleable__label\" for=\"ba0b5747-2868-4330-a892-8e5e55b4d9e7\">FunctionTransformer</label><div class=\"sk-toggleable__content\"><pre>FunctionTransformer(func=<ufunc 'log1p'>)</pre></div></div></div><div class=\"sk-item\"><div class=\"sk-estimator sk-toggleable\"><input class=\"sk-toggleable__control sk-hidden--visually\" id=\"1649e77b-28e5-4c3a-827a-81bcb6ec28ed\" type=\"checkbox\" ><label class=\"sk-toggleable__label\" for=\"1649e77b-28e5-4c3a-827a-81bcb6ec28ed\">StandardScaler</label><div class=\"sk-toggleable__content\"><pre>StandardScaler()</pre></div></div></div></div></div></div></div></div><div class=\"sk-parallel-item\"><div class=\"sk-item\"><div class=\"sk-label-container\"><div class=\"sk-label sk-toggleable\"><input class=\"sk-toggleable__control sk-hidden--visually\" id=\"cb8d7041-f46b-4ef9-9dbc-4a9d5b74ea65\" type=\"checkbox\" ><label class=\"sk-toggleable__label\" for=\"cb8d7041-f46b-4ef9-9dbc-4a9d5b74ea65\">numeric_0</label><div class=\"sk-toggleable__content\"><pre>['LoanAmount', 'Loan_Amount_Term']</pre></div></div></div><div class=\"sk-serial\"><div class=\"sk-item\"><div class=\"sk-serial\"><div class=\"sk-item\"><div class=\"sk-estimator sk-toggleable\"><input class=\"sk-toggleable__control sk-hidden--visually\" id=\"09aba736-718a-4463-a85f-3b1fa892caa5\" type=\"checkbox\" ><label class=\"sk-toggleable__label\" for=\"09aba736-718a-4463-a85f-3b1fa892caa5\">SimpleImputer</label><div class=\"sk-toggleable__content\"><pre>SimpleImputer(strategy='median')</pre></div></div></div><div class=\"sk-item\"><div class=\"sk-estimator sk-toggleable\"><input class=\"sk-toggleable__control sk-hidden--visually\" id=\"10f57945-e260-4097-9029-60926dce8785\" type=\"checkbox\" ><label class=\"sk-toggleable__label\" for=\"10f57945-e260-4097-9029-60926dce8785\">SimpleImputer</label><div class=\"sk-toggleable__content\"><pre>SimpleImputer(missing_values=0, strategy='median')</pre></div></div></div><div class=\"sk-item\"><div class=\"sk-estimator sk-toggleable\"><input class=\"sk-toggleable__control sk-hidden--visually\" id=\"65a5ff7d-ff09-4416-9ffd-d48db1d3b7cb\" type=\"checkbox\" ><label class=\"sk-toggleable__label\" for=\"65a5ff7d-ff09-4416-9ffd-d48db1d3b7cb\">FunctionTransformer</label><div class=\"sk-toggleable__content\"><pre>FunctionTransformer(func=<ufunc 'log1p'>)</pre></div></div></div><div class=\"sk-item\"><div class=\"sk-estimator sk-toggleable\"><input class=\"sk-toggleable__control sk-hidden--visually\" id=\"df732296-5a39-4177-98f9-63c31eb497c3\" type=\"checkbox\" ><label class=\"sk-toggleable__label\" for=\"df732296-5a39-4177-98f9-63c31eb497c3\">StandardScaler</label><div class=\"sk-toggleable__content\"><pre>StandardScaler()</pre></div></div></div></div></div></div></div></div><div class=\"sk-parallel-item\"><div class=\"sk-item\"><div class=\"sk-label-container\"><div class=\"sk-label sk-toggleable\"><input class=\"sk-toggleable__control sk-hidden--visually\" id=\"1103e213-ff1f-41de-bf75-5f1bf9c93eb1\" type=\"checkbox\" ><label class=\"sk-toggleable__label\" for=\"1103e213-ff1f-41de-bf75-5f1bf9c93eb1\">categorical</label><div class=\"sk-toggleable__content\"><pre>['Gender', 'Married', 'Dependents', 'Education', 'Property_Area', 'Self_Employed']</pre></div></div></div><div class=\"sk-serial\"><div class=\"sk-item\"><div class=\"sk-serial\"><div class=\"sk-item\"><div class=\"sk-estimator sk-toggleable\"><input class=\"sk-toggleable__control sk-hidden--visually\" id=\"54a92ec4-fa6b-4e20-b1be-a50fc0620f44\" type=\"checkbox\" ><label class=\"sk-toggleable__label\" for=\"54a92ec4-fa6b-4e20-b1be-a50fc0620f44\">SimpleImputer</label><div class=\"sk-toggleable__content\"><pre>SimpleImputer(strategy='most_frequent')</pre></div></div></div><div class=\"sk-item\"><div class=\"sk-estimator sk-toggleable\"><input class=\"sk-toggleable__control sk-hidden--visually\" id=\"8ce2ad4e-b5ed-4e72-9404-6ddca821fe2b\" type=\"checkbox\" ><label class=\"sk-toggleable__label\" for=\"8ce2ad4e-b5ed-4e72-9404-6ddca821fe2b\">OneHotEncoder</label><div class=\"sk-toggleable__content\"><pre>OneHotEncoder(sparse=False)</pre></div></div></div></div></div></div></div></div><div class=\"sk-parallel-item\"><div class=\"sk-item\"><div class=\"sk-label-container\"><div class=\"sk-label sk-toggleable\"><input class=\"sk-toggleable__control sk-hidden--visually\" id=\"c4169271-3a36-4abe-8f78-e1bb7d8c665f\" type=\"checkbox\" ><label class=\"sk-toggleable__label\" for=\"c4169271-3a36-4abe-8f78-e1bb7d8c665f\">categorical_cre_his</label><div class=\"sk-toggleable__content\"><pre>['Credit_History']</pre></div></div></div><div class=\"sk-serial\"><div class=\"sk-item\"><div class=\"sk-serial\"><div class=\"sk-item\"><div class=\"sk-estimator sk-toggleable\"><input class=\"sk-toggleable__control sk-hidden--visually\" id=\"d182da84-d3f1-4241-8807-adf757a26eaa\" type=\"checkbox\" ><label class=\"sk-toggleable__label\" for=\"d182da84-d3f1-4241-8807-adf757a26eaa\">SimpleImputer</label><div class=\"sk-toggleable__content\"><pre>SimpleImputer(fill_value=2)</pre></div></div></div><div class=\"sk-item\"><div class=\"sk-estimator sk-toggleable\"><input class=\"sk-toggleable__control sk-hidden--visually\" id=\"27232af1-e39c-4e67-abd9-f2d78989c009\" type=\"checkbox\" ><label class=\"sk-toggleable__label\" for=\"27232af1-e39c-4e67-abd9-f2d78989c009\">OneHotEncoder</label><div class=\"sk-toggleable__content\"><pre>OneHotEncoder(sparse=False)</pre></div></div></div></div></div></div></div></div></div></div><div class=\"sk-item\"><div class=\"sk-estimator sk-toggleable\"><input class=\"sk-toggleable__control sk-hidden--visually\" id=\"f475bfd6-d949-430b-9bd7-36c8aa5fcf8d\" type=\"checkbox\" ><label class=\"sk-toggleable__label\" for=\"f475bfd6-d949-430b-9bd7-36c8aa5fcf8d\">SVC</label><div class=\"sk-toggleable__content\"><pre>SVC()</pre></div></div></div></div></div></div></div>"
      ],
      "text/plain": [
       "Pipeline(steps=[('data_prepare',\n",
       "                 ColumnTransformer(transformers=[('numeric',\n",
       "                                                  Pipeline(steps=[('impute_median',\n",
       "                                                                   SimpleImputer(strategy='median')),\n",
       "                                                                  ('log_transform',\n",
       "                                                                   FunctionTransformer(func=<ufunc 'log1p'>)),\n",
       "                                                                  ('scaling',\n",
       "                                                                   StandardScaler())]),\n",
       "                                                  ['ApplicantIncome',\n",
       "                                                   'CoapplicantIncome']),\n",
       "                                                 ('numeric_0',\n",
       "                                                  Pipeline(steps=[('impute_median_0',\n",
       "                                                                   SimpleImputer(strategy='media...\n",
       "                                                  Pipeline(steps=[('impute_mode',\n",
       "                                                                   SimpleImputer(strategy='most_frequent')),\n",
       "                                                                  ('one-hot-encode',\n",
       "                                                                   OneHotEncoder(sparse=False))]),\n",
       "                                                  ['Gender', 'Married',\n",
       "                                                   'Dependents', 'Education',\n",
       "                                                   'Property_Area',\n",
       "                                                   'Self_Employed']),\n",
       "                                                 ('categorical_cre_his',\n",
       "                                                  Pipeline(steps=[('impute_value',\n",
       "                                                                   SimpleImputer(fill_value=2)),\n",
       "                                                                  ('one-hot-encode_c',\n",
       "                                                                   OneHotEncoder(sparse=False))]),\n",
       "                                                  ['Credit_History'])])),\n",
       "                ('classifier', SVC())])"
      ]
     },
     "execution_count": 202,
     "metadata": {},
     "output_type": "execute_result"
    }
   ],
   "source": [
    "from sklearn import set_config\n",
    "set_config(display='diagram')\n",
    "\n",
    "pipeline"
   ]
  },
  {
   "cell_type": "code",
   "execution_count": 205,
   "metadata": {},
   "outputs": [],
   "source": [
    "X_train, X_test, y_train, y_test = train_test_split(X,y)"
   ]
  },
  {
   "cell_type": "code",
   "execution_count": 206,
   "metadata": {},
   "outputs": [
    {
     "data": {
      "text/html": [
       "<style>#sk-68b430f7-895f-444b-b1e1-7acdc5698279 {color: black;background-color: white;}#sk-68b430f7-895f-444b-b1e1-7acdc5698279 pre{padding: 0;}#sk-68b430f7-895f-444b-b1e1-7acdc5698279 div.sk-toggleable {background-color: white;}#sk-68b430f7-895f-444b-b1e1-7acdc5698279 label.sk-toggleable__label {cursor: pointer;display: block;width: 100%;margin-bottom: 0;padding: 0.2em 0.3em;box-sizing: border-box;text-align: center;}#sk-68b430f7-895f-444b-b1e1-7acdc5698279 div.sk-toggleable__content {max-height: 0;max-width: 0;overflow: hidden;text-align: left;background-color: #f0f8ff;}#sk-68b430f7-895f-444b-b1e1-7acdc5698279 div.sk-toggleable__content pre {margin: 0.2em;color: black;border-radius: 0.25em;background-color: #f0f8ff;}#sk-68b430f7-895f-444b-b1e1-7acdc5698279 input.sk-toggleable__control:checked~div.sk-toggleable__content {max-height: 200px;max-width: 100%;overflow: auto;}#sk-68b430f7-895f-444b-b1e1-7acdc5698279 div.sk-estimator input.sk-toggleable__control:checked~label.sk-toggleable__label {background-color: #d4ebff;}#sk-68b430f7-895f-444b-b1e1-7acdc5698279 div.sk-label input.sk-toggleable__control:checked~label.sk-toggleable__label {background-color: #d4ebff;}#sk-68b430f7-895f-444b-b1e1-7acdc5698279 input.sk-hidden--visually {border: 0;clip: rect(1px 1px 1px 1px);clip: rect(1px, 1px, 1px, 1px);height: 1px;margin: -1px;overflow: hidden;padding: 0;position: absolute;width: 1px;}#sk-68b430f7-895f-444b-b1e1-7acdc5698279 div.sk-estimator {font-family: monospace;background-color: #f0f8ff;margin: 0.25em 0.25em;border: 1px dotted black;border-radius: 0.25em;box-sizing: border-box;}#sk-68b430f7-895f-444b-b1e1-7acdc5698279 div.sk-estimator:hover {background-color: #d4ebff;}#sk-68b430f7-895f-444b-b1e1-7acdc5698279 div.sk-parallel-item::after {content: \"\";width: 100%;border-bottom: 1px solid gray;flex-grow: 1;}#sk-68b430f7-895f-444b-b1e1-7acdc5698279 div.sk-label:hover label.sk-toggleable__label {background-color: #d4ebff;}#sk-68b430f7-895f-444b-b1e1-7acdc5698279 div.sk-serial::before {content: \"\";position: absolute;border-left: 1px solid gray;box-sizing: border-box;top: 2em;bottom: 0;left: 50%;}#sk-68b430f7-895f-444b-b1e1-7acdc5698279 div.sk-serial {display: flex;flex-direction: column;align-items: center;background-color: white;}#sk-68b430f7-895f-444b-b1e1-7acdc5698279 div.sk-item {z-index: 1;}#sk-68b430f7-895f-444b-b1e1-7acdc5698279 div.sk-parallel {display: flex;align-items: stretch;justify-content: center;background-color: white;}#sk-68b430f7-895f-444b-b1e1-7acdc5698279 div.sk-parallel-item {display: flex;flex-direction: column;position: relative;background-color: white;}#sk-68b430f7-895f-444b-b1e1-7acdc5698279 div.sk-parallel-item:first-child::after {align-self: flex-end;width: 50%;}#sk-68b430f7-895f-444b-b1e1-7acdc5698279 div.sk-parallel-item:last-child::after {align-self: flex-start;width: 50%;}#sk-68b430f7-895f-444b-b1e1-7acdc5698279 div.sk-parallel-item:only-child::after {width: 0;}#sk-68b430f7-895f-444b-b1e1-7acdc5698279 div.sk-dashed-wrapped {border: 1px dashed gray;margin: 0.2em;box-sizing: border-box;padding-bottom: 0.1em;background-color: white;position: relative;}#sk-68b430f7-895f-444b-b1e1-7acdc5698279 div.sk-label label {font-family: monospace;font-weight: bold;background-color: white;display: inline-block;line-height: 1.2em;}#sk-68b430f7-895f-444b-b1e1-7acdc5698279 div.sk-label-container {position: relative;z-index: 2;text-align: center;}#sk-68b430f7-895f-444b-b1e1-7acdc5698279 div.sk-container {display: inline-block;position: relative;}</style><div id=\"sk-68b430f7-895f-444b-b1e1-7acdc5698279\" class\"sk-top-container\"><div class=\"sk-container\"><div class=\"sk-item sk-dashed-wrapped\"><div class=\"sk-label-container\"><div class=\"sk-label sk-toggleable\"><input class=\"sk-toggleable__control sk-hidden--visually\" id=\"c53a620a-53b7-4db3-8fc0-34ffef033c67\" type=\"checkbox\" ><label class=\"sk-toggleable__label\" for=\"c53a620a-53b7-4db3-8fc0-34ffef033c67\">Pipeline</label><div class=\"sk-toggleable__content\"><pre>Pipeline(steps=[('data_prepare',\n",
       "                 ColumnTransformer(transformers=[('numeric',\n",
       "                                                  Pipeline(steps=[('impute_median',\n",
       "                                                                   SimpleImputer(strategy='median')),\n",
       "                                                                  ('log_transform',\n",
       "                                                                   FunctionTransformer(func=<ufunc 'log1p'>)),\n",
       "                                                                  ('scaling',\n",
       "                                                                   StandardScaler())]),\n",
       "                                                  ['ApplicantIncome',\n",
       "                                                   'CoapplicantIncome']),\n",
       "                                                 ('numeric_0',\n",
       "                                                  Pipeline(steps=[('impute_median_0',\n",
       "                                                                   SimpleImputer(strategy='media...\n",
       "                                                  Pipeline(steps=[('impute_mode',\n",
       "                                                                   SimpleImputer(strategy='most_frequent')),\n",
       "                                                                  ('one-hot-encode',\n",
       "                                                                   OneHotEncoder(sparse=False))]),\n",
       "                                                  ['Gender', 'Married',\n",
       "                                                   'Dependents', 'Education',\n",
       "                                                   'Property_Area',\n",
       "                                                   'Self_Employed']),\n",
       "                                                 ('categorical_cre_his',\n",
       "                                                  Pipeline(steps=[('impute_value',\n",
       "                                                                   SimpleImputer(fill_value=2)),\n",
       "                                                                  ('one-hot-encode_c',\n",
       "                                                                   OneHotEncoder(sparse=False))]),\n",
       "                                                  ['Credit_History'])])),\n",
       "                ('classifier', SVC())])</pre></div></div></div><div class=\"sk-serial\"><div class=\"sk-item sk-dashed-wrapped\"><div class=\"sk-label-container\"><div class=\"sk-label sk-toggleable\"><input class=\"sk-toggleable__control sk-hidden--visually\" id=\"2a106278-b542-46fc-b4c1-ad8997d3123c\" type=\"checkbox\" ><label class=\"sk-toggleable__label\" for=\"2a106278-b542-46fc-b4c1-ad8997d3123c\">data_prepare: ColumnTransformer</label><div class=\"sk-toggleable__content\"><pre>ColumnTransformer(transformers=[('numeric',\n",
       "                                 Pipeline(steps=[('impute_median',\n",
       "                                                  SimpleImputer(strategy='median')),\n",
       "                                                 ('log_transform',\n",
       "                                                  FunctionTransformer(func=<ufunc 'log1p'>)),\n",
       "                                                 ('scaling',\n",
       "                                                  StandardScaler())]),\n",
       "                                 ['ApplicantIncome', 'CoapplicantIncome']),\n",
       "                                ('numeric_0',\n",
       "                                 Pipeline(steps=[('impute_median_0',\n",
       "                                                  SimpleImputer(strategy='median')),\n",
       "                                                 ('impute_median2_0',\n",
       "                                                  SimpleI...\n",
       "                                 Pipeline(steps=[('impute_mode',\n",
       "                                                  SimpleImputer(strategy='most_frequent')),\n",
       "                                                 ('one-hot-encode',\n",
       "                                                  OneHotEncoder(sparse=False))]),\n",
       "                                 ['Gender', 'Married', 'Dependents',\n",
       "                                  'Education', 'Property_Area',\n",
       "                                  'Self_Employed']),\n",
       "                                ('categorical_cre_his',\n",
       "                                 Pipeline(steps=[('impute_value',\n",
       "                                                  SimpleImputer(fill_value=2)),\n",
       "                                                 ('one-hot-encode_c',\n",
       "                                                  OneHotEncoder(sparse=False))]),\n",
       "                                 ['Credit_History'])])</pre></div></div></div><div class=\"sk-parallel\"><div class=\"sk-parallel-item\"><div class=\"sk-item\"><div class=\"sk-label-container\"><div class=\"sk-label sk-toggleable\"><input class=\"sk-toggleable__control sk-hidden--visually\" id=\"150d20b9-444b-4130-b5d6-d4efb6eb7692\" type=\"checkbox\" ><label class=\"sk-toggleable__label\" for=\"150d20b9-444b-4130-b5d6-d4efb6eb7692\">numeric</label><div class=\"sk-toggleable__content\"><pre>['ApplicantIncome', 'CoapplicantIncome']</pre></div></div></div><div class=\"sk-serial\"><div class=\"sk-item\"><div class=\"sk-serial\"><div class=\"sk-item\"><div class=\"sk-estimator sk-toggleable\"><input class=\"sk-toggleable__control sk-hidden--visually\" id=\"c3b19aad-d05f-4245-b234-37989ac87cff\" type=\"checkbox\" ><label class=\"sk-toggleable__label\" for=\"c3b19aad-d05f-4245-b234-37989ac87cff\">SimpleImputer</label><div class=\"sk-toggleable__content\"><pre>SimpleImputer(strategy='median')</pre></div></div></div><div class=\"sk-item\"><div class=\"sk-estimator sk-toggleable\"><input class=\"sk-toggleable__control sk-hidden--visually\" id=\"7202e0ef-c3f6-4c33-9a72-e83c5a6c494c\" type=\"checkbox\" ><label class=\"sk-toggleable__label\" for=\"7202e0ef-c3f6-4c33-9a72-e83c5a6c494c\">FunctionTransformer</label><div class=\"sk-toggleable__content\"><pre>FunctionTransformer(func=<ufunc 'log1p'>)</pre></div></div></div><div class=\"sk-item\"><div class=\"sk-estimator sk-toggleable\"><input class=\"sk-toggleable__control sk-hidden--visually\" id=\"e407b8a8-f001-49b9-8cad-f48718ebb494\" type=\"checkbox\" ><label class=\"sk-toggleable__label\" for=\"e407b8a8-f001-49b9-8cad-f48718ebb494\">StandardScaler</label><div class=\"sk-toggleable__content\"><pre>StandardScaler()</pre></div></div></div></div></div></div></div></div><div class=\"sk-parallel-item\"><div class=\"sk-item\"><div class=\"sk-label-container\"><div class=\"sk-label sk-toggleable\"><input class=\"sk-toggleable__control sk-hidden--visually\" id=\"e8e8e58d-5ea0-44c2-8de8-ce3d0752b29f\" type=\"checkbox\" ><label class=\"sk-toggleable__label\" for=\"e8e8e58d-5ea0-44c2-8de8-ce3d0752b29f\">numeric_0</label><div class=\"sk-toggleable__content\"><pre>['LoanAmount', 'Loan_Amount_Term']</pre></div></div></div><div class=\"sk-serial\"><div class=\"sk-item\"><div class=\"sk-serial\"><div class=\"sk-item\"><div class=\"sk-estimator sk-toggleable\"><input class=\"sk-toggleable__control sk-hidden--visually\" id=\"65c1e204-5b49-4839-a86c-18078c85e86f\" type=\"checkbox\" ><label class=\"sk-toggleable__label\" for=\"65c1e204-5b49-4839-a86c-18078c85e86f\">SimpleImputer</label><div class=\"sk-toggleable__content\"><pre>SimpleImputer(strategy='median')</pre></div></div></div><div class=\"sk-item\"><div class=\"sk-estimator sk-toggleable\"><input class=\"sk-toggleable__control sk-hidden--visually\" id=\"3a0747be-f323-4ae3-8c87-059fb4da39b2\" type=\"checkbox\" ><label class=\"sk-toggleable__label\" for=\"3a0747be-f323-4ae3-8c87-059fb4da39b2\">SimpleImputer</label><div class=\"sk-toggleable__content\"><pre>SimpleImputer(missing_values=0, strategy='median')</pre></div></div></div><div class=\"sk-item\"><div class=\"sk-estimator sk-toggleable\"><input class=\"sk-toggleable__control sk-hidden--visually\" id=\"ca924f7b-089a-48b9-be45-a6639001ee76\" type=\"checkbox\" ><label class=\"sk-toggleable__label\" for=\"ca924f7b-089a-48b9-be45-a6639001ee76\">FunctionTransformer</label><div class=\"sk-toggleable__content\"><pre>FunctionTransformer(func=<ufunc 'log1p'>)</pre></div></div></div><div class=\"sk-item\"><div class=\"sk-estimator sk-toggleable\"><input class=\"sk-toggleable__control sk-hidden--visually\" id=\"3b98cd82-3ece-41e2-bb9d-016962106159\" type=\"checkbox\" ><label class=\"sk-toggleable__label\" for=\"3b98cd82-3ece-41e2-bb9d-016962106159\">StandardScaler</label><div class=\"sk-toggleable__content\"><pre>StandardScaler()</pre></div></div></div></div></div></div></div></div><div class=\"sk-parallel-item\"><div class=\"sk-item\"><div class=\"sk-label-container\"><div class=\"sk-label sk-toggleable\"><input class=\"sk-toggleable__control sk-hidden--visually\" id=\"75065894-31c1-4333-a77b-56989192652b\" type=\"checkbox\" ><label class=\"sk-toggleable__label\" for=\"75065894-31c1-4333-a77b-56989192652b\">categorical</label><div class=\"sk-toggleable__content\"><pre>['Gender', 'Married', 'Dependents', 'Education', 'Property_Area', 'Self_Employed']</pre></div></div></div><div class=\"sk-serial\"><div class=\"sk-item\"><div class=\"sk-serial\"><div class=\"sk-item\"><div class=\"sk-estimator sk-toggleable\"><input class=\"sk-toggleable__control sk-hidden--visually\" id=\"4ae82cb8-6ce1-44fb-8a21-0ab03bb88c11\" type=\"checkbox\" ><label class=\"sk-toggleable__label\" for=\"4ae82cb8-6ce1-44fb-8a21-0ab03bb88c11\">SimpleImputer</label><div class=\"sk-toggleable__content\"><pre>SimpleImputer(strategy='most_frequent')</pre></div></div></div><div class=\"sk-item\"><div class=\"sk-estimator sk-toggleable\"><input class=\"sk-toggleable__control sk-hidden--visually\" id=\"66d6459c-4ddb-4426-886f-15dc443f76d8\" type=\"checkbox\" ><label class=\"sk-toggleable__label\" for=\"66d6459c-4ddb-4426-886f-15dc443f76d8\">OneHotEncoder</label><div class=\"sk-toggleable__content\"><pre>OneHotEncoder(sparse=False)</pre></div></div></div></div></div></div></div></div><div class=\"sk-parallel-item\"><div class=\"sk-item\"><div class=\"sk-label-container\"><div class=\"sk-label sk-toggleable\"><input class=\"sk-toggleable__control sk-hidden--visually\" id=\"b6e09a35-1841-43f3-b569-a3a9a5ded610\" type=\"checkbox\" ><label class=\"sk-toggleable__label\" for=\"b6e09a35-1841-43f3-b569-a3a9a5ded610\">categorical_cre_his</label><div class=\"sk-toggleable__content\"><pre>['Credit_History']</pre></div></div></div><div class=\"sk-serial\"><div class=\"sk-item\"><div class=\"sk-serial\"><div class=\"sk-item\"><div class=\"sk-estimator sk-toggleable\"><input class=\"sk-toggleable__control sk-hidden--visually\" id=\"60aa81a2-bd05-46d5-9bd8-7388d513b18d\" type=\"checkbox\" ><label class=\"sk-toggleable__label\" for=\"60aa81a2-bd05-46d5-9bd8-7388d513b18d\">SimpleImputer</label><div class=\"sk-toggleable__content\"><pre>SimpleImputer(fill_value=2)</pre></div></div></div><div class=\"sk-item\"><div class=\"sk-estimator sk-toggleable\"><input class=\"sk-toggleable__control sk-hidden--visually\" id=\"38a9e535-427d-4a5e-90ad-cce2e792ee0c\" type=\"checkbox\" ><label class=\"sk-toggleable__label\" for=\"38a9e535-427d-4a5e-90ad-cce2e792ee0c\">OneHotEncoder</label><div class=\"sk-toggleable__content\"><pre>OneHotEncoder(sparse=False)</pre></div></div></div></div></div></div></div></div></div></div><div class=\"sk-item\"><div class=\"sk-estimator sk-toggleable\"><input class=\"sk-toggleable__control sk-hidden--visually\" id=\"157c8ce3-4ca3-41ad-a428-c4b1f2b0464f\" type=\"checkbox\" ><label class=\"sk-toggleable__label\" for=\"157c8ce3-4ca3-41ad-a428-c4b1f2b0464f\">SVC</label><div class=\"sk-toggleable__content\"><pre>SVC()</pre></div></div></div></div></div></div></div>"
      ],
      "text/plain": [
       "Pipeline(steps=[('data_prepare',\n",
       "                 ColumnTransformer(transformers=[('numeric',\n",
       "                                                  Pipeline(steps=[('impute_median',\n",
       "                                                                   SimpleImputer(strategy='median')),\n",
       "                                                                  ('log_transform',\n",
       "                                                                   FunctionTransformer(func=<ufunc 'log1p'>)),\n",
       "                                                                  ('scaling',\n",
       "                                                                   StandardScaler())]),\n",
       "                                                  ['ApplicantIncome',\n",
       "                                                   'CoapplicantIncome']),\n",
       "                                                 ('numeric_0',\n",
       "                                                  Pipeline(steps=[('impute_median_0',\n",
       "                                                                   SimpleImputer(strategy='media...\n",
       "                                                  Pipeline(steps=[('impute_mode',\n",
       "                                                                   SimpleImputer(strategy='most_frequent')),\n",
       "                                                                  ('one-hot-encode',\n",
       "                                                                   OneHotEncoder(sparse=False))]),\n",
       "                                                  ['Gender', 'Married',\n",
       "                                                   'Dependents', 'Education',\n",
       "                                                   'Property_Area',\n",
       "                                                   'Self_Employed']),\n",
       "                                                 ('categorical_cre_his',\n",
       "                                                  Pipeline(steps=[('impute_value',\n",
       "                                                                   SimpleImputer(fill_value=2)),\n",
       "                                                                  ('one-hot-encode_c',\n",
       "                                                                   OneHotEncoder(sparse=False))]),\n",
       "                                                  ['Credit_History'])])),\n",
       "                ('classifier', SVC())])"
      ]
     },
     "execution_count": 206,
     "metadata": {},
     "output_type": "execute_result"
    }
   ],
   "source": [
    "pipeline.fit(X_train,y_train)"
   ]
  },
  {
   "cell_type": "code",
   "execution_count": 207,
   "metadata": {},
   "outputs": [
    {
     "name": "stdout",
     "output_type": "stream",
     "text": [
      "              precision    recall  f1-score   support\n",
      "\n",
      "           0       1.00      0.35      0.52        48\n",
      "           1       0.77      1.00      0.87       106\n",
      "\n",
      "    accuracy                           0.80       154\n",
      "   macro avg       0.89      0.68      0.70       154\n",
      "weighted avg       0.84      0.80      0.76       154\n",
      "\n"
     ]
    }
   ],
   "source": [
    "y_pred = pipeline.predict(X_test)\n",
    "print(classification_report(y_test,y_pred))"
   ]
  },
  {
   "cell_type": "code",
   "execution_count": 209,
   "metadata": {},
   "outputs": [],
   "source": [
    "pickle.dump( pipeline, open( \"loan_model.sav\", \"wb\" ) )"
   ]
  },
  {
   "cell_type": "markdown",
   "metadata": {},
   "source": [
    "## 6. Deploy your model to cloud and test it with PostMan, BASH or Python"
   ]
  },
  {
   "cell_type": "code",
   "execution_count": 211,
   "metadata": {},
   "outputs": [],
   "source": [
    "load_m = pickle.load(open('loan_model.sav','rb'))"
   ]
  },
  {
   "cell_type": "code",
   "execution_count": 213,
   "metadata": {},
   "outputs": [],
   "source": [
    "y_pred = load_m.predict(X_test)"
   ]
  },
  {
   "cell_type": "code",
   "execution_count": 214,
   "metadata": {},
   "outputs": [
    {
     "data": {
      "text/plain": [
       "array([1, 1, 1, 1, 0, 1, 1, 0, 1, 1, 1, 1, 1, 0, 0, 1, 1, 1, 1, 1, 1, 1,\n",
       "       1, 1, 1, 1, 1, 1, 0, 1, 0, 1, 1, 1, 1, 1, 1, 1, 1, 1, 0, 1, 1, 1,\n",
       "       1, 1, 0, 1, 1, 1, 1, 0, 1, 1, 1, 1, 1, 1, 1, 1, 1, 1, 0, 1, 1, 1,\n",
       "       1, 1, 1, 1, 1, 1, 1, 1, 1, 1, 1, 1, 1, 1, 1, 1, 1, 1, 1, 1, 1, 1,\n",
       "       1, 1, 1, 1, 1, 1, 1, 0, 1, 1, 1, 1, 1, 1, 1, 1, 1, 1, 1, 1, 1, 1,\n",
       "       1, 0, 1, 1, 0, 1, 1, 1, 0, 1, 0, 1, 1, 1, 1, 1, 0, 1, 1, 1, 1, 1,\n",
       "       1, 1, 0, 1, 1, 1, 1, 1, 1, 1, 1, 1, 1, 1, 1, 1, 1, 1, 1, 1, 1, 1],\n",
       "      dtype=int64)"
      ]
     },
     "execution_count": 214,
     "metadata": {},
     "output_type": "execute_result"
    }
   ],
   "source": [
    "y_pred"
   ]
  }
 ],
 "metadata": {
  "kernelspec": {
   "display_name": "Python 3 (ipykernel)",
   "language": "python",
   "name": "python3"
  },
  "language_info": {
   "codemirror_mode": {
    "name": "ipython",
    "version": 3
   },
   "file_extension": ".py",
   "mimetype": "text/x-python",
   "name": "python",
   "nbconvert_exporter": "python",
   "pygments_lexer": "ipython3",
   "version": "3.8.10"
  }
 },
 "nbformat": 4,
 "nbformat_minor": 4
}
